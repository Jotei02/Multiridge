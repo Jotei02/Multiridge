{
 "cells": [
  {
   "cell_type": "code",
   "execution_count": 12,
   "id": "f6342527-1d06-484c-98ee-4402810086da",
   "metadata": {},
   "outputs": [
    {
     "name": "stdout",
     "output_type": "stream",
     "text": [
      "The autoreload extension is already loaded. To reload it, use:\n",
      "  %reload_ext autoreload\n"
     ]
    }
   ],
   "source": [
    "import sys\n",
    "import pickle\n",
    "import numpy as np\n",
    "import pandas as pd\n",
    "import torch\n",
    "\n",
    "import time\n",
    "\n",
    "sys.path.append('..')\n",
    "from src.utils import *\n",
    "from src.models import *\n",
    "from src.configs import *\n",
    "\n",
    "from matplotlib import rcParams\n",
    "import matplotlib.pyplot as plt\n",
    "import matplotlib.gridspec as gridspec\n",
    "import seaborn as sns\n",
    "rcParams.update(fig_params)\n",
    "\n",
    "import warnings\n",
    "\n",
    "%load_ext autoreload\n",
    "%autoreload 2\n",
    "%config Completer.use_jedi = False"
   ]
  },
  {
   "cell_type": "markdown",
   "id": "87c6923c-561e-4d43-8227-eddf47c9f052",
   "metadata": {},
   "source": [
    "## Set device"
   ]
  },
  {
   "cell_type": "code",
   "execution_count": 13,
   "id": "21899d56-c668-4449-a01c-38b1f0dea0f1",
   "metadata": {},
   "outputs": [
    {
     "name": "stdout",
     "output_type": "stream",
     "text": [
      "Using device: cuda:2\n"
     ]
    }
   ],
   "source": [
    "DEVICE = 'cuda:2' if torch.cuda.is_available() else 'cpu'\n",
    "print('Using device:', DEVICE)\n",
    "DTYPE = torch.float32"
   ]
  },
  {
   "cell_type": "markdown",
   "id": "69016302-fd0d-4e09-a73f-6bdf7aef9fbc",
   "metadata": {},
   "source": [
    "## Massive experiment (sensitivity wrt number of features)"
   ]
  },
  {
   "cell_type": "code",
   "execution_count": 14,
   "id": "e5bf942b-b2db-4e65-bee6-b6d42da2188e",
   "metadata": {},
   "outputs": [],
   "source": [
    "class MultiRidgeAutograd(nn.Module):\n",
    "    def __init__(self):\n",
    "        super().__init__()\n",
    "\n",
    "    def forward(self, λ):\n",
    "        theta_hat = torch.linalg.lstsq(X_train.T @ X_train + N_train * torch.diag(λ)@torch.diag(λ), X_train.T @ Y_train)[0]\n",
    "        Y_valid_hat = X_valid @ theta_hat\n",
    "        return (1/(2*N_valid)) * torch.linalg.norm(Y_valid_hat - Y_valid)**2\n",
    "    \n",
    "class Function(torch.autograd.Function):\n",
    "    @staticmethod\n",
    "    def forward(ctx, λ):\n",
    "        theta_hat = torch.linalg.lstsq(X_train.T @ X_train + N_train * torch.diag(λ)@torch.diag(λ), X_train.T @ Y_train)[0]\n",
    "        Y_valid_hat = X_valid @ theta_hat\n",
    "        R = (Y_valid_hat - Y_valid)\n",
    "        ctx.save_for_backward(λ, theta_hat, R)\n",
    "        return (1/(2*N_valid)) * torch.linalg.norm(R)**2\n",
    "    \n",
    "    @staticmethod\n",
    "    def backward(ctx, grad_output):\n",
    "        λ, theta_hat, R = ctx.saved_tensors\n",
    "        B = torch.linalg.lstsq((X_train.T @ X_train + N_train * torch.diag(λ)@torch.diag(λ)).T, X_valid.T @ R @ theta_hat.T)[0]\n",
    "        return -(N_train/N_valid) * torch.diagonal(torch.diag(λ)@B + B@torch.diag(λ))\n",
    "\n",
    "class MultiRidgeAnalytic(nn.Module):\n",
    "    def __init__(self):\n",
    "        super(MultiRidgeAnalytic, self).__init__()\n",
    "\n",
    "    def forward(self, λ):\n",
    "        return Function.apply(λ)"
   ]
  },
  {
   "cell_type": "code",
   "execution_count": 15,
   "id": "316e2b22-9d5c-4868-9612-a19a8c035ee1",
   "metadata": {
    "scrolled": true,
    "tags": []
   },
   "outputs": [
    {
     "data": {
      "application/vnd.jupyter.widget-view+json": {
       "model_id": "f686a267992847f1b39cb86092fe4852",
       "version_major": 2,
       "version_minor": 0
      },
      "text/plain": [
       "  0%|          | 0/50 [00:00<?, ?it/s]"
      ]
     },
     "metadata": {},
     "output_type": "display_data"
    },
    {
     "data": {
      "application/vnd.jupyter.widget-view+json": {
       "model_id": "34ddc33aa1794749a53f4a8c6ee663b7",
       "version_major": 2,
       "version_minor": 0
      },
      "text/plain": [
       "  0%|          | 0/10 [00:00<?, ?it/s]"
      ]
     },
     "metadata": {},
     "output_type": "display_data"
    },
    {
     "name": "stdout",
     "output_type": "stream",
     "text": [
      "----------------------------------------------------------------------------------------------------\n",
      "----------------------------------------------------------------------------------------------------\n",
      "Number of features: 10\n",
      "Time analytic: 0.002 +- 0.000\n",
      "Time autograd: 0.003 +- 0.002\n",
      "Memory analytic: 0.016 +- 0.000\n",
      "Memory autograd: 0.016 +- 0.000\n",
      "Norm difference: 2.02e-08 +- 9.88e-09\n"
     ]
    },
    {
     "data": {
      "application/vnd.jupyter.widget-view+json": {
       "model_id": "42c8ea76090a40e790237b86ee9cf3b6",
       "version_major": 2,
       "version_minor": 0
      },
      "text/plain": [
       "  0%|          | 0/10 [00:00<?, ?it/s]"
      ]
     },
     "metadata": {},
     "output_type": "display_data"
    },
    {
     "name": "stdout",
     "output_type": "stream",
     "text": [
      "----------------------------------------------------------------------------------------------------\n",
      "----------------------------------------------------------------------------------------------------\n",
      "Number of features: 11\n",
      "Time analytic: 0.002 +- 0.000\n",
      "Time autograd: 0.002 +- 0.000\n",
      "Memory analytic: 0.016 +- 0.000\n",
      "Memory autograd: 0.016 +- 0.000\n",
      "Norm difference: 1.86e-08 +- 6.48e-09\n"
     ]
    },
    {
     "data": {
      "application/vnd.jupyter.widget-view+json": {
       "model_id": "72af94cbfd0b4a6fb73facb819167fe3",
       "version_major": 2,
       "version_minor": 0
      },
      "text/plain": [
       "  0%|          | 0/10 [00:00<?, ?it/s]"
      ]
     },
     "metadata": {},
     "output_type": "display_data"
    },
    {
     "name": "stdout",
     "output_type": "stream",
     "text": [
      "----------------------------------------------------------------------------------------------------\n",
      "----------------------------------------------------------------------------------------------------\n",
      "Number of features: 13\n",
      "Time analytic: 0.001 +- 0.000\n",
      "Time autograd: 0.002 +- 0.000\n",
      "Memory analytic: 0.016 +- 0.000\n",
      "Memory autograd: 0.016 +- 0.000\n",
      "Norm difference: 2.36e-08 +- 9.70e-09\n"
     ]
    },
    {
     "data": {
      "application/vnd.jupyter.widget-view+json": {
       "model_id": "802a8e56a7204f9fb76cc98240013eae",
       "version_major": 2,
       "version_minor": 0
      },
      "text/plain": [
       "  0%|          | 0/10 [00:00<?, ?it/s]"
      ]
     },
     "metadata": {},
     "output_type": "display_data"
    },
    {
     "name": "stdout",
     "output_type": "stream",
     "text": [
      "----------------------------------------------------------------------------------------------------\n",
      "----------------------------------------------------------------------------------------------------\n",
      "Number of features: 15\n",
      "Time analytic: 0.002 +- 0.000\n",
      "Time autograd: 0.002 +- 0.000\n",
      "Memory analytic: 0.016 +- 0.000\n",
      "Memory autograd: 0.016 +- 0.000\n",
      "Norm difference: 3.45e-08 +- 1.83e-08\n"
     ]
    },
    {
     "data": {
      "application/vnd.jupyter.widget-view+json": {
       "model_id": "8cc96c614bb5476d8781b7b747195af6",
       "version_major": 2,
       "version_minor": 0
      },
      "text/plain": [
       "  0%|          | 0/10 [00:00<?, ?it/s]"
      ]
     },
     "metadata": {},
     "output_type": "display_data"
    },
    {
     "name": "stdout",
     "output_type": "stream",
     "text": [
      "----------------------------------------------------------------------------------------------------\n",
      "----------------------------------------------------------------------------------------------------\n",
      "Number of features: 17\n",
      "Time analytic: 0.001 +- 0.000\n",
      "Time autograd: 0.002 +- 0.000\n",
      "Memory analytic: 0.016 +- 0.000\n",
      "Memory autograd: 0.016 +- 0.000\n",
      "Norm difference: 3.52e-08 +- 1.59e-08\n"
     ]
    },
    {
     "data": {
      "application/vnd.jupyter.widget-view+json": {
       "model_id": "656a3bce494b4b36920e9ada5f0b90c1",
       "version_major": 2,
       "version_minor": 0
      },
      "text/plain": [
       "  0%|          | 0/10 [00:00<?, ?it/s]"
      ]
     },
     "metadata": {},
     "output_type": "display_data"
    },
    {
     "name": "stdout",
     "output_type": "stream",
     "text": [
      "----------------------------------------------------------------------------------------------------\n",
      "----------------------------------------------------------------------------------------------------\n",
      "Number of features: 20\n",
      "Time analytic: 0.002 +- 0.000\n",
      "Time autograd: 0.002 +- 0.000\n",
      "Memory analytic: 0.016 +- 0.000\n",
      "Memory autograd: 0.016 +- 0.000\n",
      "Norm difference: 4.34e-08 +- 1.04e-08\n"
     ]
    },
    {
     "data": {
      "application/vnd.jupyter.widget-view+json": {
       "model_id": "4ecda9d6682240138fc6049710cc3bd0",
       "version_major": 2,
       "version_minor": 0
      },
      "text/plain": [
       "  0%|          | 0/10 [00:00<?, ?it/s]"
      ]
     },
     "metadata": {},
     "output_type": "display_data"
    },
    {
     "name": "stdout",
     "output_type": "stream",
     "text": [
      "----------------------------------------------------------------------------------------------------\n",
      "----------------------------------------------------------------------------------------------------\n",
      "Number of features: 23\n",
      "Time analytic: 0.002 +- 0.000\n",
      "Time autograd: 0.002 +- 0.000\n",
      "Memory analytic: 0.016 +- 0.000\n",
      "Memory autograd: 0.016 +- 0.000\n",
      "Norm difference: 4.18e-08 +- 1.34e-08\n"
     ]
    },
    {
     "data": {
      "application/vnd.jupyter.widget-view+json": {
       "model_id": "3df03384bfd3445a8002f9d915b0aa70",
       "version_major": 2,
       "version_minor": 0
      },
      "text/plain": [
       "  0%|          | 0/10 [00:00<?, ?it/s]"
      ]
     },
     "metadata": {},
     "output_type": "display_data"
    },
    {
     "name": "stdout",
     "output_type": "stream",
     "text": [
      "----------------------------------------------------------------------------------------------------\n",
      "----------------------------------------------------------------------------------------------------\n",
      "Number of features: 26\n",
      "Time analytic: 0.001 +- 0.000\n",
      "Time autograd: 0.002 +- 0.001\n",
      "Memory analytic: 0.016 +- 0.000\n",
      "Memory autograd: 0.016 +- 0.000\n",
      "Norm difference: 4.83e-08 +- 1.69e-08\n"
     ]
    },
    {
     "data": {
      "application/vnd.jupyter.widget-view+json": {
       "model_id": "dcabde04ab744508908f91a9a60bb89d",
       "version_major": 2,
       "version_minor": 0
      },
      "text/plain": [
       "  0%|          | 0/10 [00:00<?, ?it/s]"
      ]
     },
     "metadata": {},
     "output_type": "display_data"
    },
    {
     "name": "stdout",
     "output_type": "stream",
     "text": [
      "----------------------------------------------------------------------------------------------------\n",
      "----------------------------------------------------------------------------------------------------\n",
      "Number of features: 30\n",
      "Time analytic: 0.002 +- 0.000\n",
      "Time autograd: 0.002 +- 0.000\n",
      "Memory analytic: 0.016 +- 0.000\n",
      "Memory autograd: 0.016 +- 0.000\n",
      "Norm difference: 5.91e-08 +- 1.95e-08\n"
     ]
    },
    {
     "data": {
      "application/vnd.jupyter.widget-view+json": {
       "model_id": "1dfb8d95fe0349c8ba01e75bd3d4c390",
       "version_major": 2,
       "version_minor": 0
      },
      "text/plain": [
       "  0%|          | 0/10 [00:00<?, ?it/s]"
      ]
     },
     "metadata": {},
     "output_type": "display_data"
    },
    {
     "name": "stdout",
     "output_type": "stream",
     "text": [
      "----------------------------------------------------------------------------------------------------\n",
      "----------------------------------------------------------------------------------------------------\n",
      "Number of features: 35\n",
      "Time analytic: 0.002 +- 0.000\n",
      "Time autograd: 0.003 +- 0.000\n",
      "Memory analytic: 0.016 +- 0.000\n",
      "Memory autograd: 0.016 +- 0.000\n",
      "Norm difference: 4.88e-08 +- 1.33e-08\n"
     ]
    },
    {
     "data": {
      "application/vnd.jupyter.widget-view+json": {
       "model_id": "f607f48c956f452e90d7226ebace7377",
       "version_major": 2,
       "version_minor": 0
      },
      "text/plain": [
       "  0%|          | 0/10 [00:00<?, ?it/s]"
      ]
     },
     "metadata": {},
     "output_type": "display_data"
    },
    {
     "name": "stdout",
     "output_type": "stream",
     "text": [
      "----------------------------------------------------------------------------------------------------\n",
      "----------------------------------------------------------------------------------------------------\n",
      "Number of features: 40\n",
      "Time analytic: 0.002 +- 0.000\n",
      "Time autograd: 0.003 +- 0.000\n",
      "Memory analytic: 0.016 +- 0.000\n",
      "Memory autograd: 0.016 +- 0.000\n",
      "Norm difference: 5.70e-08 +- 1.03e-08\n"
     ]
    },
    {
     "data": {
      "application/vnd.jupyter.widget-view+json": {
       "model_id": "4908b0ca56424ebba312e5d743c740cf",
       "version_major": 2,
       "version_minor": 0
      },
      "text/plain": [
       "  0%|          | 0/10 [00:00<?, ?it/s]"
      ]
     },
     "metadata": {},
     "output_type": "display_data"
    },
    {
     "name": "stdout",
     "output_type": "stream",
     "text": [
      "----------------------------------------------------------------------------------------------------\n",
      "----------------------------------------------------------------------------------------------------\n",
      "Number of features: 47\n",
      "Time analytic: 0.002 +- 0.000\n",
      "Time autograd: 0.003 +- 0.000\n",
      "Memory analytic: 0.016 +- 0.000\n",
      "Memory autograd: 0.016 +- 0.000\n",
      "Norm difference: 6.55e-08 +- 2.14e-08\n"
     ]
    },
    {
     "data": {
      "application/vnd.jupyter.widget-view+json": {
       "model_id": "5db2e90f9fb747d5b74c0cc784fd729f",
       "version_major": 2,
       "version_minor": 0
      },
      "text/plain": [
       "  0%|          | 0/10 [00:00<?, ?it/s]"
      ]
     },
     "metadata": {},
     "output_type": "display_data"
    },
    {
     "name": "stdout",
     "output_type": "stream",
     "text": [
      "----------------------------------------------------------------------------------------------------\n",
      "----------------------------------------------------------------------------------------------------\n",
      "Number of features: 54\n",
      "Time analytic: 0.002 +- 0.000\n",
      "Time autograd: 0.003 +- 0.000\n",
      "Memory analytic: 0.017 +- 0.000\n",
      "Memory autograd: 0.017 +- 0.000\n",
      "Norm difference: 7.69e-08 +- 1.04e-08\n"
     ]
    },
    {
     "data": {
      "application/vnd.jupyter.widget-view+json": {
       "model_id": "8e830a34fd224e59b44b580b21436a48",
       "version_major": 2,
       "version_minor": 0
      },
      "text/plain": [
       "  0%|          | 0/10 [00:00<?, ?it/s]"
      ]
     },
     "metadata": {},
     "output_type": "display_data"
    },
    {
     "name": "stdout",
     "output_type": "stream",
     "text": [
      "----------------------------------------------------------------------------------------------------\n",
      "----------------------------------------------------------------------------------------------------\n",
      "Number of features: 62\n",
      "Time analytic: 0.002 +- 0.000\n",
      "Time autograd: 0.003 +- 0.000\n",
      "Memory analytic: 0.017 +- 0.000\n",
      "Memory autograd: 0.017 +- 0.000\n",
      "Norm difference: 9.60e-08 +- 1.42e-08\n"
     ]
    },
    {
     "data": {
      "application/vnd.jupyter.widget-view+json": {
       "model_id": "97dbca12021546ffa6b00769a48dd375",
       "version_major": 2,
       "version_minor": 0
      },
      "text/plain": [
       "  0%|          | 0/10 [00:00<?, ?it/s]"
      ]
     },
     "metadata": {},
     "output_type": "display_data"
    },
    {
     "name": "stdout",
     "output_type": "stream",
     "text": [
      "----------------------------------------------------------------------------------------------------\n",
      "----------------------------------------------------------------------------------------------------\n",
      "Number of features: 71\n",
      "Time analytic: 0.002 +- 0.000\n",
      "Time autograd: 0.004 +- 0.000\n",
      "Memory analytic: 0.017 +- 0.000\n",
      "Memory autograd: 0.017 +- 0.000\n",
      "Norm difference: 1.17e-07 +- 2.16e-08\n"
     ]
    },
    {
     "data": {
      "application/vnd.jupyter.widget-view+json": {
       "model_id": "e32b0f9842594e4b9391549ab28fffc4",
       "version_major": 2,
       "version_minor": 0
      },
      "text/plain": [
       "  0%|          | 0/10 [00:00<?, ?it/s]"
      ]
     },
     "metadata": {},
     "output_type": "display_data"
    },
    {
     "name": "stdout",
     "output_type": "stream",
     "text": [
      "----------------------------------------------------------------------------------------------------\n",
      "----------------------------------------------------------------------------------------------------\n",
      "Number of features: 82\n",
      "Time analytic: 0.003 +- 0.000\n",
      "Time autograd: 0.004 +- 0.000\n",
      "Memory analytic: 0.017 +- 0.000\n",
      "Memory autograd: 0.017 +- 0.000\n",
      "Norm difference: 1.30e-07 +- 1.77e-08\n"
     ]
    },
    {
     "data": {
      "application/vnd.jupyter.widget-view+json": {
       "model_id": "a9beb2cd0acd43688b91282621482ef4",
       "version_major": 2,
       "version_minor": 0
      },
      "text/plain": [
       "  0%|          | 0/10 [00:00<?, ?it/s]"
      ]
     },
     "metadata": {},
     "output_type": "display_data"
    },
    {
     "name": "stdout",
     "output_type": "stream",
     "text": [
      "----------------------------------------------------------------------------------------------------\n",
      "----------------------------------------------------------------------------------------------------\n",
      "Number of features: 95\n",
      "Time analytic: 0.003 +- 0.000\n",
      "Time autograd: 0.004 +- 0.001\n",
      "Memory analytic: 0.017 +- 0.000\n",
      "Memory autograd: 0.017 +- 0.000\n",
      "Norm difference: 1.58e-07 +- 2.41e-08\n"
     ]
    },
    {
     "data": {
      "application/vnd.jupyter.widget-view+json": {
       "model_id": "822d46ba6270423ca7b5a4004f94af4e",
       "version_major": 2,
       "version_minor": 0
      },
      "text/plain": [
       "  0%|          | 0/10 [00:00<?, ?it/s]"
      ]
     },
     "metadata": {},
     "output_type": "display_data"
    },
    {
     "name": "stdout",
     "output_type": "stream",
     "text": [
      "----------------------------------------------------------------------------------------------------\n",
      "----------------------------------------------------------------------------------------------------\n",
      "Number of features: 109\n",
      "Time analytic: 0.003 +- 0.000\n",
      "Time autograd: 0.005 +- 0.000\n",
      "Memory analytic: 0.017 +- 0.000\n",
      "Memory autograd: 0.017 +- 0.000\n",
      "Norm difference: 1.88e-07 +- 2.36e-08\n"
     ]
    },
    {
     "data": {
      "application/vnd.jupyter.widget-view+json": {
       "model_id": "9de31a86470c40569a20951188442078",
       "version_major": 2,
       "version_minor": 0
      },
      "text/plain": [
       "  0%|          | 0/10 [00:00<?, ?it/s]"
      ]
     },
     "metadata": {},
     "output_type": "display_data"
    },
    {
     "name": "stdout",
     "output_type": "stream",
     "text": [
      "----------------------------------------------------------------------------------------------------\n",
      "----------------------------------------------------------------------------------------------------\n",
      "Number of features: 126\n",
      "Time analytic: 0.003 +- 0.000\n",
      "Time autograd: 0.005 +- 0.001\n",
      "Memory analytic: 0.017 +- 0.000\n",
      "Memory autograd: 0.017 +- 0.000\n",
      "Norm difference: 2.30e-07 +- 3.69e-08\n"
     ]
    },
    {
     "data": {
      "application/vnd.jupyter.widget-view+json": {
       "model_id": "126d9b5ac1be4e5e8cb85e4c890eb72f",
       "version_major": 2,
       "version_minor": 0
      },
      "text/plain": [
       "  0%|          | 0/10 [00:00<?, ?it/s]"
      ]
     },
     "metadata": {},
     "output_type": "display_data"
    },
    {
     "name": "stdout",
     "output_type": "stream",
     "text": [
      "----------------------------------------------------------------------------------------------------\n",
      "----------------------------------------------------------------------------------------------------\n",
      "Number of features: 145\n",
      "Time analytic: 0.002 +- 0.000\n",
      "Time autograd: 0.006 +- 0.000\n",
      "Memory analytic: 0.017 +- 0.000\n",
      "Memory autograd: 0.017 +- 0.000\n",
      "Norm difference: 3.23e-07 +- 3.06e-08\n"
     ]
    },
    {
     "data": {
      "application/vnd.jupyter.widget-view+json": {
       "model_id": "60f478ba617c4e8d94e7a156a995fef0",
       "version_major": 2,
       "version_minor": 0
      },
      "text/plain": [
       "  0%|          | 0/10 [00:00<?, ?it/s]"
      ]
     },
     "metadata": {},
     "output_type": "display_data"
    },
    {
     "name": "stdout",
     "output_type": "stream",
     "text": [
      "----------------------------------------------------------------------------------------------------\n",
      "----------------------------------------------------------------------------------------------------\n",
      "Number of features: 167\n",
      "Time analytic: 0.002 +- 0.000\n",
      "Time autograd: 0.007 +- 0.000\n",
      "Memory analytic: 0.017 +- 0.000\n",
      "Memory autograd: 0.017 +- 0.000\n",
      "Norm difference: 4.06e-07 +- 3.99e-08\n"
     ]
    },
    {
     "data": {
      "application/vnd.jupyter.widget-view+json": {
       "model_id": "778b11e9b50c40a4816522ad7dc5cf99",
       "version_major": 2,
       "version_minor": 0
      },
      "text/plain": [
       "  0%|          | 0/10 [00:00<?, ?it/s]"
      ]
     },
     "metadata": {},
     "output_type": "display_data"
    },
    {
     "name": "stdout",
     "output_type": "stream",
     "text": [
      "----------------------------------------------------------------------------------------------------\n",
      "----------------------------------------------------------------------------------------------------\n",
      "Number of features: 193\n",
      "Time analytic: 0.002 +- 0.000\n",
      "Time autograd: 0.008 +- 0.000\n",
      "Memory analytic: 0.018 +- 0.000\n",
      "Memory autograd: 0.018 +- 0.000\n",
      "Norm difference: 5.31e-07 +- 8.24e-08\n"
     ]
    },
    {
     "data": {
      "application/vnd.jupyter.widget-view+json": {
       "model_id": "23a59bf83c1e4bde945e899af446d8a5",
       "version_major": 2,
       "version_minor": 0
      },
      "text/plain": [
       "  0%|          | 0/10 [00:00<?, ?it/s]"
      ]
     },
     "metadata": {},
     "output_type": "display_data"
    },
    {
     "name": "stdout",
     "output_type": "stream",
     "text": [
      "----------------------------------------------------------------------------------------------------\n",
      "----------------------------------------------------------------------------------------------------\n",
      "Number of features: 222\n",
      "Time analytic: 0.002 +- 0.000\n",
      "Time autograd: 0.009 +- 0.000\n",
      "Memory analytic: 0.018 +- 0.000\n",
      "Memory autograd: 0.018 +- 0.000\n",
      "Norm difference: 6.13e-07 +- 5.12e-08\n"
     ]
    },
    {
     "data": {
      "application/vnd.jupyter.widget-view+json": {
       "model_id": "d50ce13d0d93442583efab348e188728",
       "version_major": 2,
       "version_minor": 0
      },
      "text/plain": [
       "  0%|          | 0/10 [00:00<?, ?it/s]"
      ]
     },
     "metadata": {},
     "output_type": "display_data"
    },
    {
     "name": "stdout",
     "output_type": "stream",
     "text": [
      "----------------------------------------------------------------------------------------------------\n",
      "----------------------------------------------------------------------------------------------------\n",
      "Number of features: 255\n",
      "Time analytic: 0.002 +- 0.000\n",
      "Time autograd: 0.010 +- 0.001\n",
      "Memory analytic: 0.018 +- 0.000\n",
      "Memory autograd: 0.018 +- 0.000\n",
      "Norm difference: 8.29e-07 +- 6.22e-08\n"
     ]
    },
    {
     "data": {
      "application/vnd.jupyter.widget-view+json": {
       "model_id": "95d7a6917d774451ae1f7de1e660391e",
       "version_major": 2,
       "version_minor": 0
      },
      "text/plain": [
       "  0%|          | 0/10 [00:00<?, ?it/s]"
      ]
     },
     "metadata": {},
     "output_type": "display_data"
    },
    {
     "name": "stdout",
     "output_type": "stream",
     "text": [
      "----------------------------------------------------------------------------------------------------\n",
      "----------------------------------------------------------------------------------------------------\n",
      "Number of features: 294\n",
      "Time analytic: 0.003 +- 0.000\n",
      "Time autograd: 0.012 +- 0.001\n",
      "Memory analytic: 0.019 +- 0.000\n",
      "Memory autograd: 0.019 +- 0.000\n",
      "Norm difference: 1.13e-06 +- 9.00e-08\n"
     ]
    },
    {
     "data": {
      "application/vnd.jupyter.widget-view+json": {
       "model_id": "91951798aa8845fca71af64ba13f2cea",
       "version_major": 2,
       "version_minor": 0
      },
      "text/plain": [
       "  0%|          | 0/10 [00:00<?, ?it/s]"
      ]
     },
     "metadata": {},
     "output_type": "display_data"
    },
    {
     "name": "stdout",
     "output_type": "stream",
     "text": [
      "----------------------------------------------------------------------------------------------------\n",
      "----------------------------------------------------------------------------------------------------\n",
      "Number of features: 339\n",
      "Time analytic: 0.002 +- 0.000\n",
      "Time autograd: 0.013 +- 0.001\n",
      "Memory analytic: 0.019 +- 0.000\n",
      "Memory autograd: 0.019 +- 0.000\n",
      "Norm difference: 1.50e-06 +- 9.62e-08\n"
     ]
    },
    {
     "data": {
      "application/vnd.jupyter.widget-view+json": {
       "model_id": "4d48129a64b4492382d74db2f948475c",
       "version_major": 2,
       "version_minor": 0
      },
      "text/plain": [
       "  0%|          | 0/10 [00:00<?, ?it/s]"
      ]
     },
     "metadata": {},
     "output_type": "display_data"
    },
    {
     "name": "stdout",
     "output_type": "stream",
     "text": [
      "----------------------------------------------------------------------------------------------------\n",
      "----------------------------------------------------------------------------------------------------\n",
      "Number of features: 390\n",
      "Time analytic: 0.003 +- 0.000\n",
      "Time autograd: 0.016 +- 0.001\n",
      "Memory analytic: 0.020 +- 0.000\n",
      "Memory autograd: 0.020 +- 0.000\n",
      "Norm difference: 2.18e-06 +- 2.07e-07\n"
     ]
    },
    {
     "data": {
      "application/vnd.jupyter.widget-view+json": {
       "model_id": "1d54107dac7c48d280fb965c802af04f",
       "version_major": 2,
       "version_minor": 0
      },
      "text/plain": [
       "  0%|          | 0/10 [00:00<?, ?it/s]"
      ]
     },
     "metadata": {},
     "output_type": "display_data"
    },
    {
     "name": "stdout",
     "output_type": "stream",
     "text": [
      "----------------------------------------------------------------------------------------------------\n",
      "----------------------------------------------------------------------------------------------------\n",
      "Number of features: 449\n",
      "Time analytic: 0.003 +- 0.000\n",
      "Time autograd: 0.019 +- 0.000\n",
      "Memory analytic: 0.020 +- 0.000\n",
      "Memory autograd: 0.020 +- 0.000\n",
      "Norm difference: 3.02e-06 +- 2.23e-07\n"
     ]
    },
    {
     "data": {
      "application/vnd.jupyter.widget-view+json": {
       "model_id": "71d15ced662642ed9a7af266019e88c3",
       "version_major": 2,
       "version_minor": 0
      },
      "text/plain": [
       "  0%|          | 0/10 [00:00<?, ?it/s]"
      ]
     },
     "metadata": {},
     "output_type": "display_data"
    },
    {
     "name": "stdout",
     "output_type": "stream",
     "text": [
      "----------------------------------------------------------------------------------------------------\n",
      "----------------------------------------------------------------------------------------------------\n",
      "Number of features: 517\n",
      "Time analytic: 0.003 +- 0.000\n",
      "Time autograd: 0.023 +- 0.001\n",
      "Memory analytic: 0.021 +- 0.000\n",
      "Memory autograd: 0.021 +- 0.000\n",
      "Norm difference: 4.12e-06 +- 3.02e-07\n"
     ]
    },
    {
     "data": {
      "application/vnd.jupyter.widget-view+json": {
       "model_id": "5a80f7bcac184852b5f8aa5a96889ca5",
       "version_major": 2,
       "version_minor": 0
      },
      "text/plain": [
       "  0%|          | 0/10 [00:00<?, ?it/s]"
      ]
     },
     "metadata": {},
     "output_type": "display_data"
    },
    {
     "name": "stdout",
     "output_type": "stream",
     "text": [
      "----------------------------------------------------------------------------------------------------\n",
      "----------------------------------------------------------------------------------------------------\n",
      "Number of features: 596\n",
      "Time analytic: 0.004 +- 0.000\n",
      "Time autograd: 0.027 +- 0.000\n",
      "Memory analytic: 0.022 +- 0.000\n",
      "Memory autograd: 0.022 +- 0.000\n",
      "Norm difference: 6.55e-06 +- 4.18e-07\n"
     ]
    },
    {
     "data": {
      "application/vnd.jupyter.widget-view+json": {
       "model_id": "5c34592a6dad4e91bf45ee7932f30f21",
       "version_major": 2,
       "version_minor": 0
      },
      "text/plain": [
       "  0%|          | 0/10 [00:00<?, ?it/s]"
      ]
     },
     "metadata": {},
     "output_type": "display_data"
    },
    {
     "name": "stdout",
     "output_type": "stream",
     "text": [
      "----------------------------------------------------------------------------------------------------\n",
      "----------------------------------------------------------------------------------------------------\n",
      "Number of features: 686\n",
      "Time analytic: 0.004 +- 0.000\n",
      "Time autograd: 0.034 +- 0.000\n",
      "Memory analytic: 0.023 +- 0.000\n",
      "Memory autograd: 0.023 +- 0.000\n",
      "Norm difference: 9.92e-06 +- 7.18e-07\n"
     ]
    },
    {
     "data": {
      "application/vnd.jupyter.widget-view+json": {
       "model_id": "8c7942fb51824c3484e1632cb5a48311",
       "version_major": 2,
       "version_minor": 0
      },
      "text/plain": [
       "  0%|          | 0/10 [00:00<?, ?it/s]"
      ]
     },
     "metadata": {},
     "output_type": "display_data"
    },
    {
     "name": "stdout",
     "output_type": "stream",
     "text": [
      "----------------------------------------------------------------------------------------------------\n",
      "----------------------------------------------------------------------------------------------------\n",
      "Number of features: 790\n",
      "Time analytic: 0.005 +- 0.000\n",
      "Time autograd: 0.046 +- 0.001\n",
      "Memory analytic: 0.024 +- 0.000\n",
      "Memory autograd: 0.024 +- 0.000\n",
      "Norm difference: 1.65e-05 +- 1.61e-06\n"
     ]
    },
    {
     "data": {
      "application/vnd.jupyter.widget-view+json": {
       "model_id": "76869daff39c435ebd910a9f3e2cf3c9",
       "version_major": 2,
       "version_minor": 0
      },
      "text/plain": [
       "  0%|          | 0/10 [00:00<?, ?it/s]"
      ]
     },
     "metadata": {},
     "output_type": "display_data"
    },
    {
     "name": "stdout",
     "output_type": "stream",
     "text": [
      "----------------------------------------------------------------------------------------------------\n",
      "----------------------------------------------------------------------------------------------------\n",
      "Number of features: 910\n",
      "Time analytic: 0.006 +- 0.000\n",
      "Time autograd: 0.062 +- 0.001\n",
      "Memory analytic: 0.027 +- 0.000\n",
      "Memory autograd: 0.027 +- 0.000\n",
      "Norm difference: 2.75e-05 +- 1.62e-06\n"
     ]
    },
    {
     "data": {
      "application/vnd.jupyter.widget-view+json": {
       "model_id": "1f7226de611746669e72e89c2783f656",
       "version_major": 2,
       "version_minor": 0
      },
      "text/plain": [
       "  0%|          | 0/10 [00:00<?, ?it/s]"
      ]
     },
     "metadata": {},
     "output_type": "display_data"
    },
    {
     "name": "stdout",
     "output_type": "stream",
     "text": [
      "----------------------------------------------------------------------------------------------------\n",
      "----------------------------------------------------------------------------------------------------\n",
      "Number of features: 1048\n",
      "Time analytic: 0.007 +- 0.000\n",
      "Time autograd: 0.080 +- 0.001\n",
      "Memory analytic: 0.029 +- 0.000\n",
      "Memory autograd: 0.029 +- 0.000\n",
      "Norm difference: 4.80e-05 +- 5.68e-06\n"
     ]
    },
    {
     "data": {
      "application/vnd.jupyter.widget-view+json": {
       "model_id": "8d8d4f870a7a4d69a2a2023a0d56693c",
       "version_major": 2,
       "version_minor": 0
      },
      "text/plain": [
       "  0%|          | 0/10 [00:00<?, ?it/s]"
      ]
     },
     "metadata": {},
     "output_type": "display_data"
    },
    {
     "name": "stdout",
     "output_type": "stream",
     "text": [
      "----------------------------------------------------------------------------------------------------\n",
      "----------------------------------------------------------------------------------------------------\n",
      "Number of features: 1206\n",
      "Time analytic: 0.009 +- 0.000\n",
      "Time autograd: 0.105 +- 0.001\n",
      "Memory analytic: 0.031 +- 0.000\n",
      "Memory autograd: 0.031 +- 0.000\n",
      "Norm difference: 8.16e-05 +- 8.28e-06\n"
     ]
    },
    {
     "data": {
      "application/vnd.jupyter.widget-view+json": {
       "model_id": "8908d2dffc7e4f70b52a5e63a849694d",
       "version_major": 2,
       "version_minor": 0
      },
      "text/plain": [
       "  0%|          | 0/10 [00:00<?, ?it/s]"
      ]
     },
     "metadata": {},
     "output_type": "display_data"
    },
    {
     "name": "stdout",
     "output_type": "stream",
     "text": [
      "----------------------------------------------------------------------------------------------------\n",
      "----------------------------------------------------------------------------------------------------\n",
      "Number of features: 1389\n",
      "Time analytic: 0.010 +- 0.000\n",
      "Time autograd: 0.146 +- 0.001\n",
      "Memory analytic: 0.034 +- 0.000\n",
      "Memory autograd: 0.034 +- 0.000\n",
      "Norm difference: 1.58e-04 +- 1.99e-05\n"
     ]
    },
    {
     "data": {
      "application/vnd.jupyter.widget-view+json": {
       "model_id": "2274c36cf278463da4681f691cbb4532",
       "version_major": 2,
       "version_minor": 0
      },
      "text/plain": [
       "  0%|          | 0/10 [00:00<?, ?it/s]"
      ]
     },
     "metadata": {},
     "output_type": "display_data"
    },
    {
     "name": "stdout",
     "output_type": "stream",
     "text": [
      "----------------------------------------------------------------------------------------------------\n",
      "----------------------------------------------------------------------------------------------------\n",
      "Number of features: 1599\n",
      "Time analytic: 0.013 +- 0.000\n",
      "Time autograd: 0.200 +- 0.002\n",
      "Memory analytic: 0.038 +- 0.000\n",
      "Memory autograd: 0.038 +- 0.000\n",
      "Norm difference: 2.84e-04 +- 3.73e-05\n"
     ]
    },
    {
     "data": {
      "application/vnd.jupyter.widget-view+json": {
       "model_id": "b726d6206a2d4e46a169695b6d2f0bec",
       "version_major": 2,
       "version_minor": 0
      },
      "text/plain": [
       "  0%|          | 0/10 [00:00<?, ?it/s]"
      ]
     },
     "metadata": {},
     "output_type": "display_data"
    },
    {
     "name": "stdout",
     "output_type": "stream",
     "text": [
      "----------------------------------------------------------------------------------------------------\n",
      "----------------------------------------------------------------------------------------------------\n",
      "Number of features: 1842\n",
      "Time analytic: 0.016 +- 0.000\n",
      "Time autograd: 0.282 +- 0.004\n",
      "Memory analytic: 0.043 +- 0.000\n",
      "Memory autograd: 0.043 +- 0.000\n",
      "Norm difference: 5.72e-04 +- 3.77e-05\n"
     ]
    },
    {
     "data": {
      "application/vnd.jupyter.widget-view+json": {
       "model_id": "ade9ca69131b400d981a7f955b0bb3ab",
       "version_major": 2,
       "version_minor": 0
      },
      "text/plain": [
       "  0%|          | 0/10 [00:00<?, ?it/s]"
      ]
     },
     "metadata": {},
     "output_type": "display_data"
    },
    {
     "name": "stdout",
     "output_type": "stream",
     "text": [
      "----------------------------------------------------------------------------------------------------\n",
      "----------------------------------------------------------------------------------------------------\n",
      "Number of features: 2120\n",
      "Time analytic: 0.020 +- 0.000\n",
      "Time autograd: 0.396 +- 0.004\n",
      "Memory analytic: 0.050 +- 0.000\n",
      "Memory autograd: 0.050 +- 0.000\n",
      "Norm difference: 1.12e-03 +- 7.89e-05\n"
     ]
    },
    {
     "data": {
      "application/vnd.jupyter.widget-view+json": {
       "model_id": "66278776b7474dc6a21919bba249d02b",
       "version_major": 2,
       "version_minor": 0
      },
      "text/plain": [
       "  0%|          | 0/10 [00:00<?, ?it/s]"
      ]
     },
     "metadata": {},
     "output_type": "display_data"
    },
    {
     "name": "stdout",
     "output_type": "stream",
     "text": [
      "----------------------------------------------------------------------------------------------------\n",
      "----------------------------------------------------------------------------------------------------\n",
      "Number of features: 2442\n",
      "Time analytic: 0.027 +- 0.001\n",
      "Time autograd: 0.579 +- 0.004\n",
      "Memory analytic: 0.057 +- 0.000\n",
      "Memory autograd: 0.057 +- 0.000\n",
      "Norm difference: 2.13e-03 +- 2.56e-04\n"
     ]
    },
    {
     "data": {
      "application/vnd.jupyter.widget-view+json": {
       "model_id": "60cd97677f414bb68e0e77f3772def8e",
       "version_major": 2,
       "version_minor": 0
      },
      "text/plain": [
       "  0%|          | 0/10 [00:00<?, ?it/s]"
      ]
     },
     "metadata": {},
     "output_type": "display_data"
    },
    {
     "name": "stdout",
     "output_type": "stream",
     "text": [
      "----------------------------------------------------------------------------------------------------\n",
      "----------------------------------------------------------------------------------------------------\n",
      "Number of features: 2811\n",
      "Time analytic: 0.036 +- 0.000\n",
      "Time autograd: 0.959 +- 0.012\n",
      "Memory analytic: 0.067 +- 0.000\n",
      "Memory autograd: 0.067 +- 0.000\n",
      "Norm difference: 4.21e-03 +- 6.73e-04\n"
     ]
    },
    {
     "data": {
      "application/vnd.jupyter.widget-view+json": {
       "model_id": "3d342a4384c1469fb9c3e4cbdad72222",
       "version_major": 2,
       "version_minor": 0
      },
      "text/plain": [
       "  0%|          | 0/10 [00:00<?, ?it/s]"
      ]
     },
     "metadata": {},
     "output_type": "display_data"
    },
    {
     "name": "stdout",
     "output_type": "stream",
     "text": [
      "----------------------------------------------------------------------------------------------------\n",
      "----------------------------------------------------------------------------------------------------\n",
      "Number of features: 3237\n",
      "Time analytic: 0.047 +- 0.000\n",
      "Time autograd: 1.488 +- 0.006\n",
      "Memory analytic: 0.080 +- 0.000\n",
      "Memory autograd: 0.080 +- 0.000\n",
      "Norm difference: 8.05e-03 +- 1.09e-03\n"
     ]
    },
    {
     "data": {
      "application/vnd.jupyter.widget-view+json": {
       "model_id": "8055de9b4d9d4e66a2904ee61ab3c896",
       "version_major": 2,
       "version_minor": 0
      },
      "text/plain": [
       "  0%|          | 0/10 [00:00<?, ?it/s]"
      ]
     },
     "metadata": {},
     "output_type": "display_data"
    },
    {
     "name": "stdout",
     "output_type": "stream",
     "text": [
      "----------------------------------------------------------------------------------------------------\n",
      "----------------------------------------------------------------------------------------------------\n",
      "Number of features: 3727\n",
      "Time analytic: 0.061 +- 0.000\n",
      "Time autograd: 2.310 +- 0.014\n",
      "Memory analytic: 0.097 +- 0.000\n",
      "Memory autograd: 0.097 +- 0.000\n",
      "Norm difference: 1.28e-01 +- 2.40e-01\n"
     ]
    },
    {
     "data": {
      "application/vnd.jupyter.widget-view+json": {
       "model_id": "510fac71c6874d6bb477f6978eab8521",
       "version_major": 2,
       "version_minor": 0
      },
      "text/plain": [
       "  0%|          | 0/10 [00:00<?, ?it/s]"
      ]
     },
     "metadata": {},
     "output_type": "display_data"
    },
    {
     "name": "stdout",
     "output_type": "stream",
     "text": [
      "----------------------------------------------------------------------------------------------------\n",
      "----------------------------------------------------------------------------------------------------\n",
      "Number of features: 4291\n",
      "Time analytic: 0.084 +- 0.000\n",
      "Time autograd: 3.597 +- 0.024\n",
      "Memory analytic: 0.118 +- 0.000\n",
      "Memory autograd: 0.118 +- 0.000\n",
      "Norm difference: 1.66e+00 +- 7.97e-01\n"
     ]
    },
    {
     "data": {
      "application/vnd.jupyter.widget-view+json": {
       "model_id": "1b5ae4e7136e43cdbba41b0ffef6e664",
       "version_major": 2,
       "version_minor": 0
      },
      "text/plain": [
       "  0%|          | 0/10 [00:00<?, ?it/s]"
      ]
     },
     "metadata": {},
     "output_type": "display_data"
    },
    {
     "name": "stdout",
     "output_type": "stream",
     "text": [
      "----------------------------------------------------------------------------------------------------\n",
      "----------------------------------------------------------------------------------------------------\n",
      "Number of features: 4941\n",
      "Time analytic: 0.113 +- 0.001\n",
      "Time autograd: 5.482 +- 0.055\n",
      "Memory analytic: 0.146 +- 0.000\n",
      "Memory autograd: 0.146 +- 0.000\n",
      "Norm difference: 3.50e+00 +- 3.00e-01\n"
     ]
    },
    {
     "data": {
      "application/vnd.jupyter.widget-view+json": {
       "model_id": "3bf9d561a53a43388492cb35cf74e689",
       "version_major": 2,
       "version_minor": 0
      },
      "text/plain": [
       "  0%|          | 0/10 [00:00<?, ?it/s]"
      ]
     },
     "metadata": {},
     "output_type": "display_data"
    },
    {
     "name": "stdout",
     "output_type": "stream",
     "text": [
      "----------------------------------------------------------------------------------------------------\n",
      "----------------------------------------------------------------------------------------------------\n",
      "Number of features: 5689\n",
      "Time analytic: 0.162 +- 0.001\n",
      "Time autograd: 9.466 +- 0.076\n",
      "Memory analytic: 0.180 +- 0.000\n",
      "Memory autograd: 0.180 +- 0.000\n",
      "Norm difference: 4.14e+00 +- 2.32e-01\n"
     ]
    },
    {
     "data": {
      "application/vnd.jupyter.widget-view+json": {
       "model_id": "3f6b10bdde654448be1fc0f34bbad8cb",
       "version_major": 2,
       "version_minor": 0
      },
      "text/plain": [
       "  0%|          | 0/10 [00:00<?, ?it/s]"
      ]
     },
     "metadata": {},
     "output_type": "display_data"
    },
    {
     "name": "stdout",
     "output_type": "stream",
     "text": [
      "----------------------------------------------------------------------------------------------------\n",
      "----------------------------------------------------------------------------------------------------\n",
      "Number of features: 6551\n",
      "Time analytic: 0.230 +- 0.001\n",
      "Time autograd: 14.028 +- 0.094\n",
      "Memory analytic: 0.225 +- 0.000\n",
      "Memory autograd: 0.225 +- 0.000\n",
      "Norm difference: 5.15e+00 +- 5.12e-01\n"
     ]
    },
    {
     "data": {
      "application/vnd.jupyter.widget-view+json": {
       "model_id": "33b1ac03b6ea441082b0dc84fb9ab26f",
       "version_major": 2,
       "version_minor": 0
      },
      "text/plain": [
       "  0%|          | 0/10 [00:00<?, ?it/s]"
      ]
     },
     "metadata": {},
     "output_type": "display_data"
    },
    {
     "name": "stdout",
     "output_type": "stream",
     "text": [
      "----------------------------------------------------------------------------------------------------\n",
      "----------------------------------------------------------------------------------------------------\n",
      "Number of features: 7543\n",
      "Time analytic: 0.322 +- 0.002\n",
      "Time autograd: 21.225 +- 0.123\n",
      "Memory analytic: 0.286 +- 0.000\n",
      "Memory autograd: 0.286 +- 0.000\n",
      "Norm difference: 6.00e+00 +- 5.38e-01\n"
     ]
    },
    {
     "data": {
      "application/vnd.jupyter.widget-view+json": {
       "model_id": "221e1548c45d4ebfa546bbefd56a12a5",
       "version_major": 2,
       "version_minor": 0
      },
      "text/plain": [
       "  0%|          | 0/10 [00:00<?, ?it/s]"
      ]
     },
     "metadata": {},
     "output_type": "display_data"
    },
    {
     "name": "stdout",
     "output_type": "stream",
     "text": [
      "----------------------------------------------------------------------------------------------------\n",
      "----------------------------------------------------------------------------------------------------\n",
      "Number of features: 8685\n",
      "Time analytic: 0.469 +- 0.001\n",
      "Time autograd: 32.730 +- 0.488\n",
      "Memory analytic: 0.362 +- 0.000\n",
      "Memory autograd: 0.362 +- 0.000\n",
      "Norm difference: 6.88e+00 +- 5.17e-01\n"
     ]
    },
    {
     "data": {
      "application/vnd.jupyter.widget-view+json": {
       "model_id": "c0f25f27f6064759a1e50a2f7f34cd0e",
       "version_major": 2,
       "version_minor": 0
      },
      "text/plain": [
       "  0%|          | 0/10 [00:00<?, ?it/s]"
      ]
     },
     "metadata": {},
     "output_type": "display_data"
    },
    {
     "name": "stdout",
     "output_type": "stream",
     "text": [
      "----------------------------------------------------------------------------------------------------\n",
      "----------------------------------------------------------------------------------------------------\n",
      "Number of features: 10000\n",
      "Time analytic: 0.670 +- 0.002\n",
      "Time autograd: 42.933 +- 0.324\n",
      "Memory analytic: 0.464 +- 0.000\n",
      "Memory autograd: 0.464 +- 0.000\n",
      "Norm difference: 7.99e+00 +- 6.60e-01\n"
     ]
    }
   ],
   "source": [
    "number_of_features_list = list(np.logspace(1,4))\n",
    "mc_runs = 10\n",
    "df = pd.DataFrame(data=0.0, columns=['number_of_features'] + \\\n",
    "                                    [f'time_analytic_run{j}' for j in range(mc_runs)] + \\\n",
    "                                    [f'time_autograd_run{j}' for j in range(mc_runs)] + \\\n",
    "                                    [f'gpu_memory_analytic_run{j}' for j in range(mc_runs)] + \\\n",
    "                                    [f'gpu_memory_autograd_run{j}' for j in range(mc_runs)] + \\\n",
    "                                    [f'norm_difference_run{j}' for j in range(mc_runs)], index=range(len(number_of_features_list)))\n",
    "\n",
    "for i,number_of_features in enumerate(tqdm(number_of_features_list, total=len(number_of_features_list))):\n",
    "    for j in tqdm(range(mc_runs), total=mc_runs):\n",
    "        \n",
    "        rng = np.random.default_rng(seed=42*(j+1))\n",
    "\n",
    "        N = 1000\n",
    "        M = 10\n",
    "        D = int(number_of_features)\n",
    "        df.loc[i, 'number_of_features'] = D\n",
    "        N_train, N_valid = int(N*0.8), int(N*0.2)\n",
    "        dtype = torch.float32\n",
    "        np_dtype=np.float32\n",
    "\n",
    "        ### Initialization\n",
    "        X_train = torch.tensor(rng.standard_normal(size=(N_train, D), dtype=np_dtype), device=DEVICE, dtype=dtype, requires_grad=True)\n",
    "        X_valid = torch.tensor(rng.standard_normal(size=(N_valid, D), dtype=np_dtype), device=DEVICE, dtype=dtype, requires_grad=True)\n",
    "        Y_train = torch.tensor(rng.standard_normal(size=(N_train, M), dtype=np_dtype), device=DEVICE, dtype=dtype, requires_grad=True)\n",
    "        Y_valid = torch.tensor(rng.standard_normal(size=(N_valid, M), dtype=np_dtype), device=DEVICE, dtype=dtype, requires_grad=True)\n",
    "        λ = torch.tensor(rng.standard_normal(size=D, dtype=np_dtype), device=DEVICE, dtype=dtype, requires_grad=True)\n",
    "        Id = torch.eye(D, device=DEVICE, dtype=dtype, requires_grad=True)\n",
    "        ones = torch.ones(D,1, device=DEVICE, dtype=dtype, requires_grad=True)\n",
    "        \n",
    "        ### Autograd\n",
    "        model = MultiRidgeAutograd()\n",
    "        gradient_loss, gpu_memory, gpu_time = log_mem(model, λ, exp='Autograd')\n",
    "        df.loc[i, f'time_autograd_run{j}'] = gpu_time\n",
    "        df.loc[i, f'gpu_memory_autograd_run{j}'] = gpu_memory/1024**3\n",
    "        gradient_loss_automatic = gradient_loss.detach().cpu().numpy()\n",
    "        del model, gradient_loss\n",
    "        \n",
    "        λ.grad.zero_()\n",
    "        \n",
    "        ### Analytic\n",
    "        model = MultiRidgeAnalytic()\n",
    "        gradient_loss, gpu_memory, gpu_time = log_mem(model, λ, exp='Analytic')\n",
    "        df.loc[i, f'time_analytic_run{j}'] = gpu_time\n",
    "        df.loc[i, f'gpu_memory_analytic_run{j}'] = gpu_memory/1024**3\n",
    "        gradient_loss_analytic = gradient_loss.detach().cpu().numpy()\n",
    "        del model, gradient_loss\n",
    "        \n",
    "        df.loc[i, f'norm_difference_run{j}'] = np.linalg.norm(gradient_loss_automatic - gradient_loss_analytic)\n",
    "        \n",
    "        ### Release GPU memory\n",
    "        del X_train, X_valid, Y_train, Y_valid, λ, Id, ones\n",
    "        torch.cuda.empty_cache()\n",
    "    \n",
    "    print('-'*100)\n",
    "    print('-'*100)\n",
    "    print(f'Number of features: {D}')\n",
    "    print('Time analytic: {:.3f} +- {:.3f}'.format(df.loc[i, [f'time_analytic_run{j}' for j in range(mc_runs)]].mean(), df.loc[i, [f'time_analytic_run{j}' for j in range(mc_runs)]].std()))\n",
    "    print('Time autograd: {:.3f} +- {:.3f}'.format(df.loc[i, [f'time_autograd_run{j}' for j in range(mc_runs)]].mean(), df.loc[i, [f'time_autograd_run{j}' for j in range(mc_runs)]].std()))\n",
    "    print('Memory analytic: {:.3f} +- {:.3f}'.format(df.loc[i, [f'gpu_memory_analytic_run{j}' for j in range(mc_runs)]].mean(), df.loc[i, [f'gpu_memory_analytic_run{j}' for j in range(mc_runs)]].std()))\n",
    "    print('Memory autograd: {:.3f} +- {:.3f}'.format(df.loc[i, [f'gpu_memory_autograd_run{j}' for j in range(mc_runs)]].mean(), df.loc[i, [f'gpu_memory_autograd_run{j}' for j in range(mc_runs)]].std()))\n",
    "    print('Norm difference: {:.2e} +- {:.2e}'.format(df.loc[i, [f'norm_difference_run{j}' for j in range(mc_runs)]].mean(), df.loc[i, [f'norm_difference_run{j}' for j in range(mc_runs)]].std()))"
   ]
  },
  {
   "cell_type": "code",
   "execution_count": 19,
   "id": "d0ceae3a-5142-4036-b2ee-f9bbb30bc225",
   "metadata": {},
   "outputs": [],
   "source": [
    "os.makedirs(os.path.join('..', 'results', 'timing'), exist_ok=True)\n",
    "folder = os.path.join('..', 'results', 'timing')\n",
    "filename = 'timing_experiment_float32.pickle'\n",
    "df.to_pickle(os.path.join(folder, filename))"
   ]
  },
  {
   "cell_type": "code",
   "execution_count": 20,
   "id": "4acbcebf-5678-49a5-850c-7a7c1e4e8aa8",
   "metadata": {},
   "outputs": [],
   "source": [
    "df = pd.read_pickle(os.path.join(folder, filename))"
   ]
  },
  {
   "cell_type": "code",
   "execution_count": 31,
   "id": "ae29317c-432e-4cd1-a0ff-c64184398124",
   "metadata": {
    "tags": []
   },
   "outputs": [
    {
     "data": {
      "image/png": "[encoded data removed]",
      "text/plain": [
       "<Figure size 1400x600 with 2 Axes>"
      ]
     },
     "metadata": {},
     "output_type": "display_data"
    }
   ],
   "source": [
    "fig_params['axes.labelsize'] = 16\n",
    "fig_params['xtick.labelsize'] = 14\n",
    "fig_params['ytick.labelsize'] = 14\n",
    "fig_params['legend.fontsize'] = 15\n",
    "fig_params['axes.grid'] = True\n",
    "rcParams.update(fig_params)\n",
    "\n",
    "tmp = df.copy()\n",
    "fig = plt.figure(constrained_layout=True, figsize=(14, 6))\n",
    "gs = gridspec.GridSpec(3, 2, figure=fig)\n",
    "ax0 = plt.subplot(gs[:2, :1])\n",
    "\n",
    "ax0.plot(tmp.number_of_features.values, tmp[[f'time_analytic_run{j}' for j in range(mc_runs)]].mean(axis=1), marker='.', linestyle='--', markersize=10, label='Analytic')\n",
    "ax0.plot(tmp.number_of_features.values, tmp[[f'time_autograd_run{j}' for j in range(mc_runs)]].mean(axis=1), marker='.', linestyle='--', markersize=10, label='Autograd')\n",
    "\n",
    "ax0.set_xscale('log')\n",
    "ax0.set_yscale('log')\n",
    "ax0.set_ylabel('Time [s]')\n",
    "plt.setp(ax0.get_xticklabels(), visible=False)\n",
    "ax0.legend()\n",
    "\n",
    "ax1 = plt.subplot(gs[2, :1], sharex=ax0)\n",
    "ax1.plot(tmp.number_of_features.values, tmp[[f'norm_difference_run{j}' for j in range(mc_runs)]].mean(axis=1), marker='.', linestyle='--', markersize=10, color='tab:green')\n",
    "ax1.set_xscale('log')\n",
    "ax1.set_yscale('log')\n",
    "ax1.set_xlabel('Number of features')\n",
    "ax1.set_ylabel(r'$\\left\\| \\nabla_{\\lambda}E - \\overline{\\nabla_{\\lambda}E} \\right\\|$')\n",
    "\n",
    "plt.show()"
   ]
  },
  {
   "cell_type": "code",
   "execution_count": 32,
   "id": "79a49d44-9c1d-47f3-9893-57947fdf76de",
   "metadata": {},
   "outputs": [],
   "source": [
    "FIG_SIZE = (12, 6)\n",
    "SAVE_FIG = True\n",
    "FIG_FMT = 'pdf'\n",
    "TRANSPARENT_PNG=True\n",
    "\n",
    "save_fig(\n",
    "    fig,\n",
    "    'float32',\n",
    "    fig_dir=os.path.join('..','figures'),\n",
    "    fig_fmt=FIG_FMT,\n",
    "    save=SAVE_FIG, \n",
    "    fig_size=FIG_SIZE,\n",
    "    transparent_png=TRANSPARENT_PNG,\n",
    ")"
   ]
  },
  {
   "cell_type": "code",
   "execution_count": null,
   "id": "65842f31-0e44-4f89-966c-18c7096e36ab",
   "metadata": {},
   "outputs": [],
   "source": []
  }
 ],
 "metadata": {
  "kernelspec": {
   "display_name": "Python 3 (ipykernel)",
   "language": "python",
   "name": "python3"
  },
  "language_info": {
   "codemirror_mode": {
    "name": "ipython",
    "version": 3
   },
   "file_extension": ".py",
   "mimetype": "text/x-python",
   "name": "python",
   "nbconvert_exporter": "python",
   "pygments_lexer": "ipython3",
   "version": "3.8.10"
  }
 },
 "nbformat": 4,
 "nbformat_minor": 5
}
