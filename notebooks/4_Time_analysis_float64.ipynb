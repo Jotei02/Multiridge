{
 "cells": [
  {
   "cell_type": "code",
   "execution_count": 1,
   "id": "f6342527-1d06-484c-98ee-4402810086da",
   "metadata": {},
   "outputs": [],
   "source": [
    "import sys\n",
    "import pickle\n",
    "import numpy as np\n",
    "import pandas as pd\n",
    "import torch\n",
    "\n",
    "import time\n",
    "\n",
    "sys.path.append('..')\n",
    "from src.utils import *\n",
    "from src.models import *\n",
    "from src.configs import *\n",
    "\n",
    "from matplotlib import rcParams\n",
    "import matplotlib.pyplot as plt\n",
    "import matplotlib.gridspec as gridspec\n",
    "import seaborn as sns\n",
    "rcParams.update(fig_params)\n",
    "\n",
    "import warnings\n",
    "\n",
    "%load_ext autoreload\n",
    "%autoreload 2\n",
    "%config Completer.use_jedi = False"
   ]
  },
  {
   "cell_type": "markdown",
   "id": "87c6923c-561e-4d43-8227-eddf47c9f052",
   "metadata": {},
   "source": [
    "## Set device"
   ]
  },
  {
   "cell_type": "code",
   "execution_count": 2,
   "id": "21899d56-c668-4449-a01c-38b1f0dea0f1",
   "metadata": {},
   "outputs": [
    {
     "name": "stdout",
     "output_type": "stream",
     "text": [
      "Using device: cuda:3\n"
     ]
    }
   ],
   "source": [
    "DEVICE = 'cuda:3' if torch.cuda.is_available() else 'cpu'\n",
    "print('Using device:', DEVICE)\n",
    "DTYPE = torch.float64"
   ]
  },
  {
   "cell_type": "markdown",
   "id": "69016302-fd0d-4e09-a73f-6bdf7aef9fbc",
   "metadata": {},
   "source": [
    "## Massive experiment (sensitivity wrt number of features)"
   ]
  },
  {
   "cell_type": "code",
   "execution_count": 3,
   "id": "1b3b81e9-caa8-475f-a12a-dddeb9b6ed87",
   "metadata": {},
   "outputs": [],
   "source": [
    "class MultiRidgeAutograd(nn.Module):\n",
    "    def __init__(self):\n",
    "        super().__init__()\n",
    "\n",
    "    def forward(self, λ):\n",
    "        theta_hat = torch.linalg.lstsq(X_train.T @ X_train + N_train * torch.diag(λ)@torch.diag(λ), X_train.T @ Y_train)[0]\n",
    "        Y_valid_hat = X_valid @ theta_hat\n",
    "        return (1/(2*N_valid)) * torch.linalg.norm(Y_valid_hat - Y_valid)**2\n",
    "    \n",
    "class Function(torch.autograd.Function):\n",
    "    @staticmethod\n",
    "    def forward(ctx, λ):\n",
    "        theta_hat = torch.linalg.lstsq(X_train.T @ X_train + N_train * torch.diag(λ)@torch.diag(λ), X_train.T @ Y_train)[0]\n",
    "        Y_valid_hat = X_valid @ theta_hat\n",
    "        R = (Y_valid_hat - Y_valid)\n",
    "        ctx.save_for_backward(λ, theta_hat, R)\n",
    "        return (1/(2*N_valid)) * torch.linalg.norm(R)**2\n",
    "    \n",
    "    @staticmethod\n",
    "    def backward(ctx, grad_output):\n",
    "        λ, theta_hat, R = ctx.saved_tensors\n",
    "        B = torch.linalg.lstsq((X_train.T @ X_train + N_train * torch.diag(λ)@torch.diag(λ)).T, X_valid.T @ R @ theta_hat.T)[0]\n",
    "        return -(N_train/N_valid) * torch.diagonal(torch.diag(λ)@B + B@torch.diag(λ))\n",
    "\n",
    "class MultiRidgeAnalytic(nn.Module):\n",
    "    def __init__(self):\n",
    "        super(MultiRidgeAnalytic, self).__init__()\n",
    "\n",
    "    def forward(self, λ):\n",
    "        return Function.apply(λ)"
   ]
  },
  {
   "cell_type": "code",
   "execution_count": 4,
   "id": "316e2b22-9d5c-4868-9612-a19a8c035ee1",
   "metadata": {
    "scrolled": true,
    "tags": []
   },
   "outputs": [
    {
     "data": {
      "application/vnd.jupyter.widget-view+json": {
       "model_id": "cffb76eba375419389b088c702cd8e16",
       "version_major": 2,
       "version_minor": 0
      },
      "text/plain": [
       "  0%|          | 0/50 [00:00<?, ?it/s]"
      ]
     },
     "metadata": {},
     "output_type": "display_data"
    },
    {
     "data": {
      "application/vnd.jupyter.widget-view+json": {
       "model_id": "8985b2dd82344dd89e3db42ddaa16837",
       "version_major": 2,
       "version_minor": 0
      },
      "text/plain": [
       "  0%|          | 0/10 [00:00<?, ?it/s]"
      ]
     },
     "metadata": {},
     "output_type": "display_data"
    },
    {
     "name": "stdout",
     "output_type": "stream",
     "text": [
      "----------------------------------------------------------------------------------------------------\n",
      "----------------------------------------------------------------------------------------------------\n",
      "Number of features: 10\n",
      "Time analytic: 0.002 +- 0.000\n",
      "Time autograd: 0.003 +- 0.001\n",
      "Memory analytic: 0.016 +- 0.000\n",
      "Memory autograd: 0.016 +- 0.000\n",
      "Norm difference: 3.84e-17 +- 9.60e-18\n"
     ]
    },
    {
     "data": {
      "application/vnd.jupyter.widget-view+json": {
       "model_id": "ddf5fa55354941dca3e4800a97936f5a",
       "version_major": 2,
       "version_minor": 0
      },
      "text/plain": [
       "  0%|          | 0/10 [00:00<?, ?it/s]"
      ]
     },
     "metadata": {},
     "output_type": "display_data"
    },
    {
     "name": "stdout",
     "output_type": "stream",
     "text": [
      "----------------------------------------------------------------------------------------------------\n",
      "----------------------------------------------------------------------------------------------------\n",
      "Number of features: 11\n",
      "Time analytic: 0.001 +- 0.000\n",
      "Time autograd: 0.002 +- 0.000\n",
      "Memory analytic: 0.016 +- 0.000\n",
      "Memory autograd: 0.016 +- 0.000\n",
      "Norm difference: 3.54e-17 +- 1.84e-17\n"
     ]
    },
    {
     "data": {
      "application/vnd.jupyter.widget-view+json": {
       "model_id": "f4aba76048514611912f75f51f304dcc",
       "version_major": 2,
       "version_minor": 0
      },
      "text/plain": [
       "  0%|          | 0/10 [00:00<?, ?it/s]"
      ]
     },
     "metadata": {},
     "output_type": "display_data"
    },
    {
     "name": "stdout",
     "output_type": "stream",
     "text": [
      "----------------------------------------------------------------------------------------------------\n",
      "----------------------------------------------------------------------------------------------------\n",
      "Number of features: 13\n",
      "Time analytic: 0.002 +- 0.000\n",
      "Time autograd: 0.003 +- 0.000\n",
      "Memory analytic: 0.016 +- 0.000\n",
      "Memory autograd: 0.016 +- 0.000\n",
      "Norm difference: 5.25e-17 +- 1.76e-17\n"
     ]
    },
    {
     "data": {
      "application/vnd.jupyter.widget-view+json": {
       "model_id": "b959efaf024d4106a9d20086b26501b0",
       "version_major": 2,
       "version_minor": 0
      },
      "text/plain": [
       "  0%|          | 0/10 [00:00<?, ?it/s]"
      ]
     },
     "metadata": {},
     "output_type": "display_data"
    },
    {
     "name": "stdout",
     "output_type": "stream",
     "text": [
      "----------------------------------------------------------------------------------------------------\n",
      "----------------------------------------------------------------------------------------------------\n",
      "Number of features: 15\n",
      "Time analytic: 0.001 +- 0.000\n",
      "Time autograd: 0.003 +- 0.000\n",
      "Memory analytic: 0.016 +- 0.000\n",
      "Memory autograd: 0.016 +- 0.000\n",
      "Norm difference: 5.23e-17 +- 1.97e-17\n"
     ]
    },
    {
     "data": {
      "application/vnd.jupyter.widget-view+json": {
       "model_id": "1c3e79d1ce6646d99c8c6758102d7c3e",
       "version_major": 2,
       "version_minor": 0
      },
      "text/plain": [
       "  0%|          | 0/10 [00:00<?, ?it/s]"
      ]
     },
     "metadata": {},
     "output_type": "display_data"
    },
    {
     "name": "stdout",
     "output_type": "stream",
     "text": [
      "----------------------------------------------------------------------------------------------------\n",
      "----------------------------------------------------------------------------------------------------\n",
      "Number of features: 17\n",
      "Time analytic: 0.001 +- 0.000\n",
      "Time autograd: 0.003 +- 0.000\n",
      "Memory analytic: 0.016 +- 0.000\n",
      "Memory autograd: 0.016 +- 0.000\n",
      "Norm difference: 6.33e-17 +- 1.89e-17\n"
     ]
    },
    {
     "data": {
      "application/vnd.jupyter.widget-view+json": {
       "model_id": "0cb521a4f5a841d7aa629eabcaa9407b",
       "version_major": 2,
       "version_minor": 0
      },
      "text/plain": [
       "  0%|          | 0/10 [00:00<?, ?it/s]"
      ]
     },
     "metadata": {},
     "output_type": "display_data"
    },
    {
     "name": "stdout",
     "output_type": "stream",
     "text": [
      "----------------------------------------------------------------------------------------------------\n",
      "----------------------------------------------------------------------------------------------------\n",
      "Number of features: 20\n",
      "Time analytic: 0.002 +- 0.000\n",
      "Time autograd: 0.003 +- 0.000\n",
      "Memory analytic: 0.016 +- 0.000\n",
      "Memory autograd: 0.016 +- 0.000\n",
      "Norm difference: 9.05e-17 +- 2.70e-17\n"
     ]
    },
    {
     "data": {
      "application/vnd.jupyter.widget-view+json": {
       "model_id": "430ccc5355c44ff58fac359c41b70127",
       "version_major": 2,
       "version_minor": 0
      },
      "text/plain": [
       "  0%|          | 0/10 [00:00<?, ?it/s]"
      ]
     },
     "metadata": {},
     "output_type": "display_data"
    },
    {
     "name": "stdout",
     "output_type": "stream",
     "text": [
      "----------------------------------------------------------------------------------------------------\n",
      "----------------------------------------------------------------------------------------------------\n",
      "Number of features: 23\n",
      "Time analytic: 0.002 +- 0.000\n",
      "Time autograd: 0.004 +- 0.000\n",
      "Memory analytic: 0.016 +- 0.000\n",
      "Memory autograd: 0.016 +- 0.000\n",
      "Norm difference: 9.01e-17 +- 5.32e-17\n"
     ]
    },
    {
     "data": {
      "application/vnd.jupyter.widget-view+json": {
       "model_id": "e38f01964dc94f699484cd89e7cd0f32",
       "version_major": 2,
       "version_minor": 0
      },
      "text/plain": [
       "  0%|          | 0/10 [00:00<?, ?it/s]"
      ]
     },
     "metadata": {},
     "output_type": "display_data"
    },
    {
     "name": "stdout",
     "output_type": "stream",
     "text": [
      "----------------------------------------------------------------------------------------------------\n",
      "----------------------------------------------------------------------------------------------------\n",
      "Number of features: 26\n",
      "Time analytic: 0.002 +- 0.000\n",
      "Time autograd: 0.004 +- 0.000\n",
      "Memory analytic: 0.016 +- 0.000\n",
      "Memory autograd: 0.016 +- 0.000\n",
      "Norm difference: 1.07e-16 +- 3.53e-17\n"
     ]
    },
    {
     "data": {
      "application/vnd.jupyter.widget-view+json": {
       "model_id": "f722d6d25a914ed7aaceaefd94bd133e",
       "version_major": 2,
       "version_minor": 0
      },
      "text/plain": [
       "  0%|          | 0/10 [00:00<?, ?it/s]"
      ]
     },
     "metadata": {},
     "output_type": "display_data"
    },
    {
     "name": "stdout",
     "output_type": "stream",
     "text": [
      "----------------------------------------------------------------------------------------------------\n",
      "----------------------------------------------------------------------------------------------------\n",
      "Number of features: 30\n",
      "Time analytic: 0.002 +- 0.000\n",
      "Time autograd: 0.005 +- 0.000\n",
      "Memory analytic: 0.016 +- 0.000\n",
      "Memory autograd: 0.016 +- 0.000\n",
      "Norm difference: 1.35e-16 +- 4.58e-17\n"
     ]
    },
    {
     "data": {
      "application/vnd.jupyter.widget-view+json": {
       "model_id": "c3dae6d1d0f94868996fa13cf1148add",
       "version_major": 2,
       "version_minor": 0
      },
      "text/plain": [
       "  0%|          | 0/10 [00:00<?, ?it/s]"
      ]
     },
     "metadata": {},
     "output_type": "display_data"
    },
    {
     "name": "stdout",
     "output_type": "stream",
     "text": [
      "----------------------------------------------------------------------------------------------------\n",
      "----------------------------------------------------------------------------------------------------\n",
      "Number of features: 35\n",
      "Time analytic: 0.002 +- 0.000\n",
      "Time autograd: 0.009 +- 0.000\n",
      "Memory analytic: 0.017 +- 0.000\n",
      "Memory autograd: 0.017 +- 0.000\n",
      "Norm difference: 1.15e-16 +- 2.71e-17\n"
     ]
    },
    {
     "data": {
      "application/vnd.jupyter.widget-view+json": {
       "model_id": "925897c1eab94fc98f43d125caa8bc5e",
       "version_major": 2,
       "version_minor": 0
      },
      "text/plain": [
       "  0%|          | 0/10 [00:00<?, ?it/s]"
      ]
     },
     "metadata": {},
     "output_type": "display_data"
    },
    {
     "name": "stdout",
     "output_type": "stream",
     "text": [
      "----------------------------------------------------------------------------------------------------\n",
      "----------------------------------------------------------------------------------------------------\n",
      "Number of features: 40\n",
      "Time analytic: 0.002 +- 0.000\n",
      "Time autograd: 0.009 +- 0.000\n",
      "Memory analytic: 0.017 +- 0.000\n",
      "Memory autograd: 0.017 +- 0.000\n",
      "Norm difference: 1.34e-16 +- 3.16e-17\n"
     ]
    },
    {
     "data": {
      "application/vnd.jupyter.widget-view+json": {
       "model_id": "411c993ff33b4531b314f794bd4d1214",
       "version_major": 2,
       "version_minor": 0
      },
      "text/plain": [
       "  0%|          | 0/10 [00:00<?, ?it/s]"
      ]
     },
     "metadata": {},
     "output_type": "display_data"
    },
    {
     "name": "stdout",
     "output_type": "stream",
     "text": [
      "----------------------------------------------------------------------------------------------------\n",
      "----------------------------------------------------------------------------------------------------\n",
      "Number of features: 47\n",
      "Time analytic: 0.002 +- 0.000\n",
      "Time autograd: 0.011 +- 0.000\n",
      "Memory analytic: 0.017 +- 0.000\n",
      "Memory autograd: 0.017 +- 0.000\n",
      "Norm difference: 1.47e-16 +- 3.40e-17\n"
     ]
    },
    {
     "data": {
      "application/vnd.jupyter.widget-view+json": {
       "model_id": "2a94ac957e554164b48b23e0bbebaacb",
       "version_major": 2,
       "version_minor": 0
      },
      "text/plain": [
       "  0%|          | 0/10 [00:00<?, ?it/s]"
      ]
     },
     "metadata": {},
     "output_type": "display_data"
    },
    {
     "name": "stdout",
     "output_type": "stream",
     "text": [
      "----------------------------------------------------------------------------------------------------\n",
      "----------------------------------------------------------------------------------------------------\n",
      "Number of features: 54\n",
      "Time analytic: 0.002 +- 0.000\n",
      "Time autograd: 0.012 +- 0.001\n",
      "Memory analytic: 0.017 +- 0.000\n",
      "Memory autograd: 0.017 +- 0.000\n",
      "Norm difference: 1.74e-16 +- 3.34e-17\n"
     ]
    },
    {
     "data": {
      "application/vnd.jupyter.widget-view+json": {
       "model_id": "a5abacf301c1419d8c243209adb349f1",
       "version_major": 2,
       "version_minor": 0
      },
      "text/plain": [
       "  0%|          | 0/10 [00:00<?, ?it/s]"
      ]
     },
     "metadata": {},
     "output_type": "display_data"
    },
    {
     "name": "stdout",
     "output_type": "stream",
     "text": [
      "----------------------------------------------------------------------------------------------------\n",
      "----------------------------------------------------------------------------------------------------\n",
      "Number of features: 62\n",
      "Time analytic: 0.002 +- 0.000\n",
      "Time autograd: 0.012 +- 0.000\n",
      "Memory analytic: 0.017 +- 0.000\n",
      "Memory autograd: 0.017 +- 0.000\n",
      "Norm difference: 1.84e-16 +- 3.26e-17\n"
     ]
    },
    {
     "data": {
      "application/vnd.jupyter.widget-view+json": {
       "model_id": "fa85011fd5b247df863482ea62bd58f5",
       "version_major": 2,
       "version_minor": 0
      },
      "text/plain": [
       "  0%|          | 0/10 [00:00<?, ?it/s]"
      ]
     },
     "metadata": {},
     "output_type": "display_data"
    },
    {
     "name": "stdout",
     "output_type": "stream",
     "text": [
      "----------------------------------------------------------------------------------------------------\n",
      "----------------------------------------------------------------------------------------------------\n",
      "Number of features: 71\n",
      "Time analytic: 0.002 +- 0.000\n",
      "Time autograd: 0.019 +- 0.001\n",
      "Memory analytic: 0.017 +- 0.000\n",
      "Memory autograd: 0.017 +- 0.000\n",
      "Norm difference: 2.56e-16 +- 2.58e-17\n"
     ]
    },
    {
     "data": {
      "application/vnd.jupyter.widget-view+json": {
       "model_id": "be2358770d0146b09c3f19bc33763e81",
       "version_major": 2,
       "version_minor": 0
      },
      "text/plain": [
       "  0%|          | 0/10 [00:00<?, ?it/s]"
      ]
     },
     "metadata": {},
     "output_type": "display_data"
    },
    {
     "name": "stdout",
     "output_type": "stream",
     "text": [
      "----------------------------------------------------------------------------------------------------\n",
      "----------------------------------------------------------------------------------------------------\n",
      "Number of features: 82\n",
      "Time analytic: 0.003 +- 0.000\n",
      "Time autograd: 0.020 +- 0.000\n",
      "Memory analytic: 0.017 +- 0.000\n",
      "Memory autograd: 0.017 +- 0.000\n",
      "Norm difference: 2.85e-16 +- 3.70e-17\n"
     ]
    },
    {
     "data": {
      "application/vnd.jupyter.widget-view+json": {
       "model_id": "fc35c102dab84d2fbef3339f976c8919",
       "version_major": 2,
       "version_minor": 0
      },
      "text/plain": [
       "  0%|          | 0/10 [00:00<?, ?it/s]"
      ]
     },
     "metadata": {},
     "output_type": "display_data"
    },
    {
     "name": "stdout",
     "output_type": "stream",
     "text": [
      "----------------------------------------------------------------------------------------------------\n",
      "----------------------------------------------------------------------------------------------------\n",
      "Number of features: 95\n",
      "Time analytic: 0.003 +- 0.000\n",
      "Time autograd: 0.021 +- 0.001\n",
      "Memory analytic: 0.018 +- 0.000\n",
      "Memory autograd: 0.018 +- 0.000\n",
      "Norm difference: 3.23e-16 +- 3.13e-17\n"
     ]
    },
    {
     "data": {
      "application/vnd.jupyter.widget-view+json": {
       "model_id": "8b160d0f1e27421db8d2971317b51edf",
       "version_major": 2,
       "version_minor": 0
      },
      "text/plain": [
       "  0%|          | 0/10 [00:00<?, ?it/s]"
      ]
     },
     "metadata": {},
     "output_type": "display_data"
    },
    {
     "name": "stdout",
     "output_type": "stream",
     "text": [
      "----------------------------------------------------------------------------------------------------\n",
      "----------------------------------------------------------------------------------------------------\n",
      "Number of features: 109\n",
      "Time analytic: 0.003 +- 0.000\n",
      "Time autograd: 0.030 +- 0.001\n",
      "Memory analytic: 0.018 +- 0.000\n",
      "Memory autograd: 0.018 +- 0.000\n",
      "Norm difference: 4.05e-16 +- 5.72e-17\n"
     ]
    },
    {
     "data": {
      "application/vnd.jupyter.widget-view+json": {
       "model_id": "672b3cdfbc92471f81bec7898f420d62",
       "version_major": 2,
       "version_minor": 0
      },
      "text/plain": [
       "  0%|          | 0/10 [00:00<?, ?it/s]"
      ]
     },
     "metadata": {},
     "output_type": "display_data"
    },
    {
     "name": "stdout",
     "output_type": "stream",
     "text": [
      "----------------------------------------------------------------------------------------------------\n",
      "----------------------------------------------------------------------------------------------------\n",
      "Number of features: 126\n",
      "Time analytic: 0.004 +- 0.000\n",
      "Time autograd: 0.031 +- 0.001\n",
      "Memory analytic: 0.018 +- 0.000\n",
      "Memory autograd: 0.018 +- 0.000\n",
      "Norm difference: 4.76e-16 +- 7.79e-17\n"
     ]
    },
    {
     "data": {
      "application/vnd.jupyter.widget-view+json": {
       "model_id": "e4c536266dc74c8f85e4bfea39bae639",
       "version_major": 2,
       "version_minor": 0
      },
      "text/plain": [
       "  0%|          | 0/10 [00:00<?, ?it/s]"
      ]
     },
     "metadata": {},
     "output_type": "display_data"
    },
    {
     "name": "stdout",
     "output_type": "stream",
     "text": [
      "----------------------------------------------------------------------------------------------------\n",
      "----------------------------------------------------------------------------------------------------\n",
      "Number of features: 145\n",
      "Time analytic: 0.003 +- 0.000\n",
      "Time autograd: 0.048 +- 0.001\n",
      "Memory analytic: 0.018 +- 0.000\n",
      "Memory autograd: 0.018 +- 0.000\n",
      "Norm difference: 6.06e-16 +- 6.38e-17\n"
     ]
    },
    {
     "data": {
      "application/vnd.jupyter.widget-view+json": {
       "model_id": "cd9bc0a8c3bd44778910524275c91e11",
       "version_major": 2,
       "version_minor": 0
      },
      "text/plain": [
       "  0%|          | 0/10 [00:00<?, ?it/s]"
      ]
     },
     "metadata": {},
     "output_type": "display_data"
    },
    {
     "name": "stdout",
     "output_type": "stream",
     "text": [
      "----------------------------------------------------------------------------------------------------\n",
      "----------------------------------------------------------------------------------------------------\n",
      "Number of features: 167\n",
      "Time analytic: 0.004 +- 0.000\n",
      "Time autograd: 0.061 +- 0.001\n",
      "Memory analytic: 0.019 +- 0.000\n",
      "Memory autograd: 0.019 +- 0.000\n",
      "Norm difference: 7.21e-16 +- 6.66e-17\n"
     ]
    },
    {
     "data": {
      "application/vnd.jupyter.widget-view+json": {
       "model_id": "1074f3afe4f746b4a8c224596302304e",
       "version_major": 2,
       "version_minor": 0
      },
      "text/plain": [
       "  0%|          | 0/10 [00:00<?, ?it/s]"
      ]
     },
     "metadata": {},
     "output_type": "display_data"
    },
    {
     "name": "stdout",
     "output_type": "stream",
     "text": [
      "----------------------------------------------------------------------------------------------------\n",
      "----------------------------------------------------------------------------------------------------\n",
      "Number of features: 193\n",
      "Time analytic: 0.004 +- 0.000\n",
      "Time autograd: 0.074 +- 0.002\n",
      "Memory analytic: 0.019 +- 0.000\n",
      "Memory autograd: 0.019 +- 0.000\n",
      "Norm difference: 9.70e-16 +- 6.54e-17\n"
     ]
    },
    {
     "data": {
      "application/vnd.jupyter.widget-view+json": {
       "model_id": "91a4b91331a040c7ba3cfb508f9cd75a",
       "version_major": 2,
       "version_minor": 0
      },
      "text/plain": [
       "  0%|          | 0/10 [00:00<?, ?it/s]"
      ]
     },
     "metadata": {},
     "output_type": "display_data"
    },
    {
     "name": "stdout",
     "output_type": "stream",
     "text": [
      "----------------------------------------------------------------------------------------------------\n",
      "----------------------------------------------------------------------------------------------------\n",
      "Number of features: 222\n",
      "Time analytic: 0.004 +- 0.000\n",
      "Time autograd: 0.077 +- 0.001\n",
      "Memory analytic: 0.020 +- 0.000\n",
      "Memory autograd: 0.020 +- 0.000\n",
      "Norm difference: 1.13e-15 +- 1.11e-16\n"
     ]
    },
    {
     "data": {
      "application/vnd.jupyter.widget-view+json": {
       "model_id": "535bcb3727fc4362a155e1d1cd0d16b3",
       "version_major": 2,
       "version_minor": 0
      },
      "text/plain": [
       "  0%|          | 0/10 [00:00<?, ?it/s]"
      ]
     },
     "metadata": {},
     "output_type": "display_data"
    },
    {
     "name": "stdout",
     "output_type": "stream",
     "text": [
      "----------------------------------------------------------------------------------------------------\n",
      "----------------------------------------------------------------------------------------------------\n",
      "Number of features: 255\n",
      "Time analytic: 0.005 +- 0.000\n",
      "Time autograd: 0.093 +- 0.002\n",
      "Memory analytic: 0.020 +- 0.000\n",
      "Memory autograd: 0.020 +- 0.000\n",
      "Norm difference: 1.44e-15 +- 1.11e-16\n"
     ]
    },
    {
     "data": {
      "application/vnd.jupyter.widget-view+json": {
       "model_id": "9853d1e326eb465186ef4369971bbca0",
       "version_major": 2,
       "version_minor": 0
      },
      "text/plain": [
       "  0%|          | 0/10 [00:00<?, ?it/s]"
      ]
     },
     "metadata": {},
     "output_type": "display_data"
    },
    {
     "name": "stdout",
     "output_type": "stream",
     "text": [
      "----------------------------------------------------------------------------------------------------\n",
      "----------------------------------------------------------------------------------------------------\n",
      "Number of features: 294\n",
      "Time analytic: 0.006 +- 0.000\n",
      "Time autograd: 0.140 +- 0.002\n",
      "Memory analytic: 0.021 +- 0.000\n",
      "Memory autograd: 0.021 +- 0.000\n",
      "Norm difference: 2.00e-15 +- 1.95e-16\n"
     ]
    },
    {
     "data": {
      "application/vnd.jupyter.widget-view+json": {
       "model_id": "dc9edd6ae0cd40a6b1d7b17a2caa724b",
       "version_major": 2,
       "version_minor": 0
      },
      "text/plain": [
       "  0%|          | 0/10 [00:00<?, ?it/s]"
      ]
     },
     "metadata": {},
     "output_type": "display_data"
    },
    {
     "name": "stdout",
     "output_type": "stream",
     "text": [
      "----------------------------------------------------------------------------------------------------\n",
      "----------------------------------------------------------------------------------------------------\n",
      "Number of features: 339\n",
      "Time analytic: 0.008 +- 0.000\n",
      "Time autograd: 0.162 +- 0.003\n",
      "Memory analytic: 0.022 +- 0.000\n",
      "Memory autograd: 0.022 +- 0.000\n",
      "Norm difference: 2.58e-15 +- 2.30e-16\n"
     ]
    },
    {
     "data": {
      "application/vnd.jupyter.widget-view+json": {
       "model_id": "7b020926b12a45459edb9066c17ba5b2",
       "version_major": 2,
       "version_minor": 0
      },
      "text/plain": [
       "  0%|          | 0/10 [00:00<?, ?it/s]"
      ]
     },
     "metadata": {},
     "output_type": "display_data"
    },
    {
     "name": "stdout",
     "output_type": "stream",
     "text": [
      "----------------------------------------------------------------------------------------------------\n",
      "----------------------------------------------------------------------------------------------------\n",
      "Number of features: 390\n",
      "Time analytic: 0.009 +- 0.000\n",
      "Time autograd: 0.218 +- 0.003\n",
      "Memory analytic: 0.023 +- 0.000\n",
      "Memory autograd: 0.023 +- 0.000\n",
      "Norm difference: 3.19e-15 +- 2.18e-16\n"
     ]
    },
    {
     "data": {
      "application/vnd.jupyter.widget-view+json": {
       "model_id": "a78b3b49d1c54490822497cba9e577fc",
       "version_major": 2,
       "version_minor": 0
      },
      "text/plain": [
       "  0%|          | 0/10 [00:00<?, ?it/s]"
      ]
     },
     "metadata": {},
     "output_type": "display_data"
    },
    {
     "name": "stdout",
     "output_type": "stream",
     "text": [
      "----------------------------------------------------------------------------------------------------\n",
      "----------------------------------------------------------------------------------------------------\n",
      "Number of features: 449\n",
      "Time analytic: 0.011 +- 0.001\n",
      "Time autograd: 0.264 +- 0.004\n",
      "Memory analytic: 0.024 +- 0.000\n",
      "Memory autograd: 0.024 +- 0.000\n",
      "Norm difference: 4.39e-15 +- 1.96e-16\n"
     ]
    },
    {
     "data": {
      "application/vnd.jupyter.widget-view+json": {
       "model_id": "00f52877694f41ad9a1429f566c3639a",
       "version_major": 2,
       "version_minor": 0
      },
      "text/plain": [
       "  0%|          | 0/10 [00:00<?, ?it/s]"
      ]
     },
     "metadata": {},
     "output_type": "display_data"
    },
    {
     "name": "stdout",
     "output_type": "stream",
     "text": [
      "----------------------------------------------------------------------------------------------------\n",
      "----------------------------------------------------------------------------------------------------\n",
      "Number of features: 517\n",
      "Time analytic: 0.013 +- 0.000\n",
      "Time autograd: 0.340 +- 0.006\n",
      "Memory analytic: 0.026 +- 0.000\n",
      "Memory autograd: 0.026 +- 0.000\n",
      "Norm difference: 6.33e-15 +- 6.48e-16\n"
     ]
    },
    {
     "data": {
      "application/vnd.jupyter.widget-view+json": {
       "model_id": "cf3ee202633c464face101b27f71844f",
       "version_major": 2,
       "version_minor": 0
      },
      "text/plain": [
       "  0%|          | 0/10 [00:00<?, ?it/s]"
      ]
     },
     "metadata": {},
     "output_type": "display_data"
    },
    {
     "name": "stdout",
     "output_type": "stream",
     "text": [
      "----------------------------------------------------------------------------------------------------\n",
      "----------------------------------------------------------------------------------------------------\n",
      "Number of features: 596\n",
      "Time analytic: 0.016 +- 0.000\n",
      "Time autograd: 0.396 +- 0.004\n",
      "Memory analytic: 0.028 +- 0.000\n",
      "Memory autograd: 0.028 +- 0.000\n",
      "Norm difference: 8.88e-15 +- 8.70e-16\n"
     ]
    },
    {
     "data": {
      "application/vnd.jupyter.widget-view+json": {
       "model_id": "af4c00b12c1b473eab2ea56da61f9ad4",
       "version_major": 2,
       "version_minor": 0
      },
      "text/plain": [
       "  0%|          | 0/10 [00:00<?, ?it/s]"
      ]
     },
     "metadata": {},
     "output_type": "display_data"
    },
    {
     "name": "stdout",
     "output_type": "stream",
     "text": [
      "----------------------------------------------------------------------------------------------------\n",
      "----------------------------------------------------------------------------------------------------\n",
      "Number of features: 686\n",
      "Time analytic: 0.019 +- 0.000\n",
      "Time autograd: 0.524 +- 0.008\n",
      "Memory analytic: 0.030 +- 0.000\n",
      "Memory autograd: 0.030 +- 0.000\n",
      "Norm difference: 1.29e-14 +- 1.00e-15\n"
     ]
    },
    {
     "data": {
      "application/vnd.jupyter.widget-view+json": {
       "model_id": "05a0b9dc22914d8d99bf988c74793bba",
       "version_major": 2,
       "version_minor": 0
      },
      "text/plain": [
       "  0%|          | 0/10 [00:00<?, ?it/s]"
      ]
     },
     "metadata": {},
     "output_type": "display_data"
    },
    {
     "name": "stdout",
     "output_type": "stream",
     "text": [
      "----------------------------------------------------------------------------------------------------\n",
      "----------------------------------------------------------------------------------------------------\n",
      "Number of features: 790\n",
      "Time analytic: 0.026 +- 0.000\n",
      "Time autograd: 0.666 +- 0.008\n",
      "Memory analytic: 0.033 +- 0.000\n",
      "Memory autograd: 0.033 +- 0.000\n",
      "Norm difference: 1.97e-14 +- 2.00e-15\n"
     ]
    },
    {
     "data": {
      "application/vnd.jupyter.widget-view+json": {
       "model_id": "ea1ad93e6e6b4836b2845951301f221c",
       "version_major": 2,
       "version_minor": 0
      },
      "text/plain": [
       "  0%|          | 0/10 [00:00<?, ?it/s]"
      ]
     },
     "metadata": {},
     "output_type": "display_data"
    },
    {
     "name": "stdout",
     "output_type": "stream",
     "text": [
      "----------------------------------------------------------------------------------------------------\n",
      "----------------------------------------------------------------------------------------------------\n",
      "Number of features: 910\n",
      "Time analytic: 0.034 +- 0.000\n",
      "Time autograd: 0.864 +- 0.009\n",
      "Memory analytic: 0.037 +- 0.000\n",
      "Memory autograd: 0.037 +- 0.000\n",
      "Norm difference: 2.97e-14 +- 2.17e-15\n"
     ]
    },
    {
     "data": {
      "application/vnd.jupyter.widget-view+json": {
       "model_id": "3be7d1625a574894b21629f82527417c",
       "version_major": 2,
       "version_minor": 0
      },
      "text/plain": [
       "  0%|          | 0/10 [00:00<?, ?it/s]"
      ]
     },
     "metadata": {},
     "output_type": "display_data"
    },
    {
     "name": "stdout",
     "output_type": "stream",
     "text": [
      "----------------------------------------------------------------------------------------------------\n",
      "----------------------------------------------------------------------------------------------------\n",
      "Number of features: 1048\n",
      "Time analytic: 0.045 +- 0.000\n",
      "Time autograd: 1.090 +- 0.011\n",
      "Memory analytic: 0.040 +- 0.000\n",
      "Memory autograd: 0.040 +- 0.000\n",
      "Norm difference: 4.98e-14 +- 6.81e-15\n"
     ]
    },
    {
     "data": {
      "application/vnd.jupyter.widget-view+json": {
       "model_id": "f09e473f25354143b03ce90d9aecf6da",
       "version_major": 2,
       "version_minor": 0
      },
      "text/plain": [
       "  0%|          | 0/10 [00:00<?, ?it/s]"
      ]
     },
     "metadata": {},
     "output_type": "display_data"
    },
    {
     "name": "stdout",
     "output_type": "stream",
     "text": [
      "----------------------------------------------------------------------------------------------------\n",
      "----------------------------------------------------------------------------------------------------\n",
      "Number of features: 1206\n",
      "Time analytic: 0.061 +- 0.000\n",
      "Time autograd: 1.397 +- 0.010\n",
      "Memory analytic: 0.045 +- 0.000\n",
      "Memory autograd: 0.045 +- 0.000\n",
      "Norm difference: 8.48e-14 +- 9.10e-15\n"
     ]
    },
    {
     "data": {
      "application/vnd.jupyter.widget-view+json": {
       "model_id": "7449db2a65e84f46aa821ef48007a5c8",
       "version_major": 2,
       "version_minor": 0
      },
      "text/plain": [
       "  0%|          | 0/10 [00:00<?, ?it/s]"
      ]
     },
     "metadata": {},
     "output_type": "display_data"
    },
    {
     "name": "stdout",
     "output_type": "stream",
     "text": [
      "----------------------------------------------------------------------------------------------------\n",
      "----------------------------------------------------------------------------------------------------\n",
      "Number of features: 1389\n",
      "Time analytic: 0.088 +- 0.000\n",
      "Time autograd: 2.141 +- 0.013\n",
      "Memory analytic: 0.051 +- 0.000\n",
      "Memory autograd: 0.051 +- 0.000\n",
      "Norm difference: 1.44e-13 +- 1.40e-14\n"
     ]
    },
    {
     "data": {
      "application/vnd.jupyter.widget-view+json": {
       "model_id": "273d7cd9065f4c41a95d4ed370a4350d",
       "version_major": 2,
       "version_minor": 0
      },
      "text/plain": [
       "  0%|          | 0/10 [00:00<?, ?it/s]"
      ]
     },
     "metadata": {},
     "output_type": "display_data"
    },
    {
     "name": "stdout",
     "output_type": "stream",
     "text": [
      "----------------------------------------------------------------------------------------------------\n",
      "----------------------------------------------------------------------------------------------------\n",
      "Number of features: 1599\n",
      "Time analytic: 0.124 +- 0.000\n",
      "Time autograd: 2.865 +- 0.029\n",
      "Memory analytic: 0.060 +- 0.000\n",
      "Memory autograd: 0.060 +- 0.000\n",
      "Norm difference: 2.72e-13 +- 2.87e-14\n"
     ]
    },
    {
     "data": {
      "application/vnd.jupyter.widget-view+json": {
       "model_id": "4f77ed8dfd9d4f21a6b03dbe7ea51de8",
       "version_major": 2,
       "version_minor": 0
      },
      "text/plain": [
       "  0%|          | 0/10 [00:00<?, ?it/s]"
      ]
     },
     "metadata": {},
     "output_type": "display_data"
    },
    {
     "name": "stdout",
     "output_type": "stream",
     "text": [
      "----------------------------------------------------------------------------------------------------\n",
      "----------------------------------------------------------------------------------------------------\n",
      "Number of features: 1842\n",
      "Time analytic: 0.178 +- 0.000\n",
      "Time autograd: 3.854 +- 0.018\n",
      "Memory analytic: 0.071 +- 0.000\n",
      "Memory autograd: 0.071 +- 0.000\n",
      "Norm difference: 4.75e-13 +- 6.62e-14\n"
     ]
    },
    {
     "data": {
      "application/vnd.jupyter.widget-view+json": {
       "model_id": "a9b526a995994ebd9c226bb8b4d999ce",
       "version_major": 2,
       "version_minor": 0
      },
      "text/plain": [
       "  0%|          | 0/10 [00:00<?, ?it/s]"
      ]
     },
     "metadata": {},
     "output_type": "display_data"
    },
    {
     "name": "stdout",
     "output_type": "stream",
     "text": [
      "----------------------------------------------------------------------------------------------------\n",
      "----------------------------------------------------------------------------------------------------\n",
      "Number of features: 2120\n",
      "Time analytic: 0.253 +- 0.000\n",
      "Time autograd: 5.061 +- 0.032\n",
      "Memory analytic: 0.082 +- 0.000\n",
      "Memory autograd: 0.082 +- 0.000\n",
      "Norm difference: 9.67e-13 +- 1.12e-13\n"
     ]
    },
    {
     "data": {
      "application/vnd.jupyter.widget-view+json": {
       "model_id": "5751b95274d9456b9aee7d5490ae288b",
       "version_major": 2,
       "version_minor": 0
      },
      "text/plain": [
       "  0%|          | 0/10 [00:00<?, ?it/s]"
      ]
     },
     "metadata": {},
     "output_type": "display_data"
    },
    {
     "name": "stdout",
     "output_type": "stream",
     "text": [
      "----------------------------------------------------------------------------------------------------\n",
      "----------------------------------------------------------------------------------------------------\n",
      "Number of features: 2442\n",
      "Time analytic: 0.368 +- 0.000\n",
      "Time autograd: 6.947 +- 0.064\n",
      "Memory analytic: 0.097 +- 0.000\n",
      "Memory autograd: 0.097 +- 0.000\n",
      "Norm difference: 2.07e-12 +- 4.12e-13\n"
     ]
    },
    {
     "data": {
      "application/vnd.jupyter.widget-view+json": {
       "model_id": "4e3dd8d57ace4d76abe300bacda3a68b",
       "version_major": 2,
       "version_minor": 0
      },
      "text/plain": [
       "  0%|          | 0/10 [00:00<?, ?it/s]"
      ]
     },
     "metadata": {},
     "output_type": "display_data"
    },
    {
     "name": "stdout",
     "output_type": "stream",
     "text": [
      "----------------------------------------------------------------------------------------------------\n",
      "----------------------------------------------------------------------------------------------------\n",
      "Number of features: 2811\n",
      "Time analytic: 0.531 +- 0.001\n",
      "Time autograd: 14.733 +- 0.093\n",
      "Memory analytic: 0.118 +- 0.000\n",
      "Memory autograd: 0.118 +- 0.000\n",
      "Norm difference: 4.10e-12 +- 5.29e-13\n"
     ]
    },
    {
     "data": {
      "application/vnd.jupyter.widget-view+json": {
       "model_id": "2562c4bf68ae4a748607366c58410c5b",
       "version_major": 2,
       "version_minor": 0
      },
      "text/plain": [
       "  0%|          | 0/10 [00:00<?, ?it/s]"
      ]
     },
     "metadata": {},
     "output_type": "display_data"
    },
    {
     "name": "stdout",
     "output_type": "stream",
     "text": [
      "----------------------------------------------------------------------------------------------------\n",
      "----------------------------------------------------------------------------------------------------\n",
      "Number of features: 3237\n",
      "Time analytic: 0.788 +- 0.001\n",
      "Time autograd: 20.391 +- 0.146\n",
      "Memory analytic: 0.144 +- 0.000\n",
      "Memory autograd: 0.144 +- 0.000\n",
      "Norm difference: 8.66e-12 +- 5.79e-13\n"
     ]
    },
    {
     "data": {
      "application/vnd.jupyter.widget-view+json": {
       "model_id": "0c3afdff2d464a408519a9d731858c18",
       "version_major": 2,
       "version_minor": 0
      },
      "text/plain": [
       "  0%|          | 0/10 [00:00<?, ?it/s]"
      ]
     },
     "metadata": {},
     "output_type": "display_data"
    },
    {
     "name": "stdout",
     "output_type": "stream",
     "text": [
      "----------------------------------------------------------------------------------------------------\n",
      "----------------------------------------------------------------------------------------------------\n",
      "Number of features: 3727\n",
      "Time analytic: 1.167 +- 0.000\n",
      "Time autograd: 27.540 +- 0.178\n",
      "Memory analytic: 0.175 +- 0.000\n",
      "Memory autograd: 0.175 +- 0.000\n",
      "Norm difference: 1.76e-11 +- 2.96e-12\n"
     ]
    },
    {
     "data": {
      "application/vnd.jupyter.widget-view+json": {
       "model_id": "b77796fdca0840948d45944d0acb76fe",
       "version_major": 2,
       "version_minor": 0
      },
      "text/plain": [
       "  0%|          | 0/10 [00:00<?, ?it/s]"
      ]
     },
     "metadata": {},
     "output_type": "display_data"
    },
    {
     "name": "stdout",
     "output_type": "stream",
     "text": [
      "----------------------------------------------------------------------------------------------------\n",
      "----------------------------------------------------------------------------------------------------\n",
      "Number of features: 4291\n",
      "Time analytic: 1.759 +- 0.002\n",
      "Time autograd: 40.783 +- 0.211\n",
      "Memory analytic: 0.217 +- 0.000\n",
      "Memory autograd: 0.217 +- 0.000\n",
      "Norm difference: 3.96e-11 +- 6.44e-12\n"
     ]
    },
    {
     "data": {
      "application/vnd.jupyter.widget-view+json": {
       "model_id": "45994737ada045b3b2d910d63d732f5e",
       "version_major": 2,
       "version_minor": 0
      },
      "text/plain": [
       "  0%|          | 0/10 [00:00<?, ?it/s]"
      ]
     },
     "metadata": {},
     "output_type": "display_data"
    },
    {
     "name": "stdout",
     "output_type": "stream",
     "text": [
      "----------------------------------------------------------------------------------------------------\n",
      "----------------------------------------------------------------------------------------------------\n",
      "Number of features: 4941\n",
      "Time analytic: 2.588 +- 0.000\n",
      "Time autograd: 54.403 +- 0.273\n",
      "Memory analytic: 0.272 +- 0.000\n",
      "Memory autograd: 0.272 +- 0.000\n",
      "Norm difference: 9.01e-11 +- 1.48e-11\n"
     ]
    },
    {
     "data": {
      "application/vnd.jupyter.widget-view+json": {
       "model_id": "0e9d1b53d7ff45c4a113dba9b49d71a5",
       "version_major": 2,
       "version_minor": 0
      },
      "text/plain": [
       "  0%|          | 0/10 [00:00<?, ?it/s]"
      ]
     },
     "metadata": {},
     "output_type": "display_data"
    },
    {
     "name": "stdout",
     "output_type": "stream",
     "text": [
      "----------------------------------------------------------------------------------------------------\n",
      "----------------------------------------------------------------------------------------------------\n",
      "Number of features: 5689\n",
      "Time analytic: 3.822 +- 0.000\n",
      "Time autograd: 98.336 +- 0.550\n",
      "Memory analytic: 0.342 +- 0.000\n",
      "Memory autograd: 0.342 +- 0.000\n",
      "Norm difference: 2.03e-10 +- 3.05e-11\n"
     ]
    },
    {
     "data": {
      "application/vnd.jupyter.widget-view+json": {
       "model_id": "d049513d29654d49b28f3402632baa00",
       "version_major": 2,
       "version_minor": 0
      },
      "text/plain": [
       "  0%|          | 0/10 [00:00<?, ?it/s]"
      ]
     },
     "metadata": {},
     "output_type": "display_data"
    },
    {
     "name": "stdout",
     "output_type": "stream",
     "text": [
      "----------------------------------------------------------------------------------------------------\n",
      "----------------------------------------------------------------------------------------------------\n",
      "Number of features: 6551\n",
      "Time analytic: 5.794 +- 0.000\n",
      "Time autograd: 134.155 +- 0.889\n",
      "Memory analytic: 0.434 +- 0.000\n",
      "Memory autograd: 0.434 +- 0.000\n",
      "Norm difference: 4.61e-10 +- 1.10e-10\n"
     ]
    },
    {
     "data": {
      "application/vnd.jupyter.widget-view+json": {
       "model_id": "f7462dca79fb40a7961a66206f7cb6e0",
       "version_major": 2,
       "version_minor": 0
      },
      "text/plain": [
       "  0%|          | 0/10 [00:00<?, ?it/s]"
      ]
     },
     "metadata": {},
     "output_type": "display_data"
    },
    {
     "name": "stdout",
     "output_type": "stream",
     "text": [
      "----------------------------------------------------------------------------------------------------\n",
      "----------------------------------------------------------------------------------------------------\n",
      "Number of features: 7543\n",
      "Time analytic: 8.656 +- 0.001\n",
      "Time autograd: 192.242 +- 1.045\n",
      "Memory analytic: 0.553 +- 0.000\n",
      "Memory autograd: 0.553 +- 0.000\n",
      "Norm difference: 1.00e-09 +- 1.58e-10\n"
     ]
    },
    {
     "data": {
      "application/vnd.jupyter.widget-view+json": {
       "model_id": "0d6979c653894dd39c72af80acf77bfc",
       "version_major": 2,
       "version_minor": 0
      },
      "text/plain": [
       "  0%|          | 0/10 [00:00<?, ?it/s]"
      ]
     },
     "metadata": {},
     "output_type": "display_data"
    },
    {
     "name": "stdout",
     "output_type": "stream",
     "text": [
      "----------------------------------------------------------------------------------------------------\n",
      "----------------------------------------------------------------------------------------------------\n",
      "Number of features: 8685\n",
      "Time analytic: 13.100 +- 0.025\n",
      "Time autograd: 318.311 +- 2.447\n",
      "Memory analytic: 0.710 +- 0.000\n",
      "Memory autograd: 0.710 +- 0.000\n",
      "Norm difference: 1.91e-09 +- 3.53e-10\n"
     ]
    },
    {
     "data": {
      "application/vnd.jupyter.widget-view+json": {
       "model_id": "68fffc0481f3484c96db3ff8695e8e37",
       "version_major": 2,
       "version_minor": 0
      },
      "text/plain": [
       "  0%|          | 0/10 [00:00<?, ?it/s]"
      ]
     },
     "metadata": {},
     "output_type": "display_data"
    },
    {
     "name": "stdout",
     "output_type": "stream",
     "text": [
      "----------------------------------------------------------------------------------------------------\n",
      "----------------------------------------------------------------------------------------------------\n",
      "Number of features: 10000\n",
      "Time analytic: 20.105 +- 0.053\n",
      "Time autograd: 462.319 +- 3.123\n",
      "Memory analytic: 0.912 +- 0.000\n",
      "Memory autograd: 0.912 +- 0.000\n",
      "Norm difference: 4.36e-09 +- 7.54e-10\n"
     ]
    }
   ],
   "source": [
    "number_of_features_list = list(np.logspace(1,4))\n",
    "mc_runs = 10\n",
    "df = pd.DataFrame(data=0.0, columns=['number_of_features'] + \\\n",
    "                                    [f'time_analytic_run{j}' for j in range(mc_runs)] + \\\n",
    "                                    [f'time_autograd_run{j}' for j in range(mc_runs)] + \\\n",
    "                                    [f'gpu_memory_analytic_run{j}' for j in range(mc_runs)] + \\\n",
    "                                    [f'gpu_memory_autograd_run{j}' for j in range(mc_runs)] + \\\n",
    "                                    [f'norm_difference_run{j}' for j in range(mc_runs)], index=range(len(number_of_features_list)))\n",
    "\n",
    "for i,number_of_features in enumerate(tqdm(number_of_features_list, total=len(number_of_features_list))):\n",
    "    for j in tqdm(range(mc_runs), total=mc_runs):\n",
    "        \n",
    "        rng = np.random.default_rng(seed=42*(j+1))\n",
    "\n",
    "        N = 1000\n",
    "        M = 10\n",
    "        D = int(number_of_features)\n",
    "        df.loc[i, 'number_of_features'] = D\n",
    "        N_train, N_valid = int(N*0.8), int(N*0.2)\n",
    "        dtype = torch.float64\n",
    "        np_dtype=np.float64\n",
    "\n",
    "        ### Initialization\n",
    "        X_train = torch.tensor(rng.standard_normal(size=(N_train, D), dtype=np_dtype), device=DEVICE, dtype=dtype, requires_grad=True)\n",
    "        X_valid = torch.tensor(rng.standard_normal(size=(N_valid, D), dtype=np_dtype), device=DEVICE, dtype=dtype, requires_grad=True)\n",
    "        Y_train = torch.tensor(rng.standard_normal(size=(N_train, M), dtype=np_dtype), device=DEVICE, dtype=dtype, requires_grad=True)\n",
    "        Y_valid = torch.tensor(rng.standard_normal(size=(N_valid, M), dtype=np_dtype), device=DEVICE, dtype=dtype, requires_grad=True)\n",
    "        λ = torch.tensor(rng.standard_normal(size=D, dtype=np_dtype), device=DEVICE, dtype=dtype, requires_grad=True)\n",
    "        Id = torch.eye(D, device=DEVICE, dtype=dtype, requires_grad=True)\n",
    "        ones = torch.ones(D,1, device=DEVICE, dtype=dtype, requires_grad=True)\n",
    "        \n",
    "        ### Autograd\n",
    "        model = MultiRidgeAutograd()\n",
    "        gradient_loss, gpu_memory, gpu_time = log_mem(model, λ, exp='Autograd')\n",
    "        df.loc[i, f'time_autograd_run{j}'] = gpu_time\n",
    "        df.loc[i, f'gpu_memory_autograd_run{j}'] = gpu_memory/1024**3\n",
    "        gradient_loss_automatic = gradient_loss.detach().cpu().numpy()\n",
    "        del model, gradient_loss\n",
    "        \n",
    "        λ.grad.zero_()\n",
    "        \n",
    "        ### Analytic\n",
    "        model = MultiRidgeAnalytic()\n",
    "        gradient_loss, gpu_memory, gpu_time = log_mem(model, λ, exp='Analytic')\n",
    "        df.loc[i, f'time_analytic_run{j}'] = gpu_time\n",
    "        df.loc[i, f'gpu_memory_analytic_run{j}'] = gpu_memory/1024**3\n",
    "        gradient_loss_analytic = gradient_loss.detach().cpu().numpy()\n",
    "        del model, gradient_loss\n",
    "        \n",
    "        df.loc[i, f'norm_difference_run{j}'] = np.linalg.norm(gradient_loss_automatic - gradient_loss_analytic)\n",
    "        \n",
    "        ### Release GPU memory\n",
    "        del X_train, X_valid, Y_train, Y_valid, λ, Id, ones\n",
    "        torch.cuda.empty_cache()\n",
    "    \n",
    "    print('-'*100)\n",
    "    print('-'*100)\n",
    "    print(f'Number of features: {D}')\n",
    "    print('Time analytic: {:.3f} +- {:.3f}'.format(df.loc[i, [f'time_analytic_run{j}' for j in range(mc_runs)]].mean(), df.loc[i, [f'time_analytic_run{j}' for j in range(mc_runs)]].std()))\n",
    "    print('Time autograd: {:.3f} +- {:.3f}'.format(df.loc[i, [f'time_autograd_run{j}' for j in range(mc_runs)]].mean(), df.loc[i, [f'time_autograd_run{j}' for j in range(mc_runs)]].std()))\n",
    "    print('Memory analytic: {:.3f} +- {:.3f}'.format(df.loc[i, [f'gpu_memory_analytic_run{j}' for j in range(mc_runs)]].mean(), df.loc[i, [f'gpu_memory_analytic_run{j}' for j in range(mc_runs)]].std()))\n",
    "    print('Memory autograd: {:.3f} +- {:.3f}'.format(df.loc[i, [f'gpu_memory_autograd_run{j}' for j in range(mc_runs)]].mean(), df.loc[i, [f'gpu_memory_autograd_run{j}' for j in range(mc_runs)]].std()))\n",
    "    print('Norm difference: {:.2e} +- {:.2e}'.format(df.loc[i, [f'norm_difference_run{j}' for j in range(mc_runs)]].mean(), df.loc[i, [f'norm_difference_run{j}' for j in range(mc_runs)]].std()))"
   ]
  },
  {
   "cell_type": "code",
   "execution_count": 5,
   "id": "62b3ba01-a377-4448-b248-a683aba36c90",
   "metadata": {},
   "outputs": [],
   "source": [
    "os.makedirs(os.path.join('..', 'results', 'timing'), exist_ok=True)\n",
    "folder = os.path.join('..', 'results', 'timing')\n",
    "filename = 'timing_experiment_float64.pickle'\n",
    "df.to_pickle(os.path.join(folder, filename))"
   ]
  },
  {
   "cell_type": "code",
   "execution_count": 6,
   "id": "ee364a33-c819-4fab-ab54-b756f28176c6",
   "metadata": {},
   "outputs": [],
   "source": [
    "df = pd.read_pickle(os.path.join(folder, filename))"
   ]
  },
  {
   "cell_type": "code",
   "execution_count": 10,
   "id": "ae29317c-432e-4cd1-a0ff-c64184398124",
   "metadata": {
    "tags": []
   },
   "outputs": [
    {
     "data": {
      "image/png": "[encoded data removed]",
      "text/plain": [
       "<Figure size 1400x600 with 2 Axes>"
      ]
     },
     "metadata": {},
     "output_type": "display_data"
    }
   ],
   "source": [
    "fig_params['axes.labelsize'] = 16\n",
    "fig_params['xtick.labelsize'] = 14\n",
    "fig_params['ytick.labelsize'] = 14\n",
    "fig_params['legend.fontsize'] = 15\n",
    "fig_params['axes.grid'] = True\n",
    "rcParams.update(fig_params)\n",
    "\n",
    "tmp = df.copy()\n",
    "fig = plt.figure(constrained_layout=True, figsize=(14, 6))\n",
    "gs = gridspec.GridSpec(3, 2, figure=fig)\n",
    "ax0 = plt.subplot(gs[:2, :1])\n",
    "\n",
    "ax0.plot(tmp.number_of_features.values, tmp[[f'time_analytic_run{j}' for j in range(mc_runs)]].mean(axis=1), marker='.', linestyle='--', markersize=10, label='Analytic')\n",
    "ax0.plot(tmp.number_of_features.values, tmp[[f'time_autograd_run{j}' for j in range(mc_runs)]].mean(axis=1), marker='.', linestyle='--', markersize=10, label='Autograd')\n",
    "\n",
    "ax0.set_xscale('log')\n",
    "ax0.set_yscale('log')\n",
    "ax0.set_ylabel('Time [s]', fontsize=16)\n",
    "plt.setp(ax0.get_xticklabels(), visible=False)\n",
    "ax0.legend()\n",
    "\n",
    "ax1 = plt.subplot(gs[2, :1], sharex=ax0)\n",
    "ax1.plot(tmp.number_of_features.values, tmp[[f'norm_difference_run{j}' for j in range(mc_runs)]].mean(axis=1), marker='.', linestyle='--', markersize=10, color='tab:green')\n",
    "ax1.set_xscale('log')\n",
    "ax1.set_yscale('log')\n",
    "ax1.set_xlabel('Number of features', fontsize=16)\n",
    "ax1.set_ylabel(r'$\\left\\| \\nabla_{\\lambda}E - \\overline{\\nabla_{\\lambda}E} \\right\\|$', fontsize=16)\n",
    "\n",
    "plt.show()"
   ]
  },
  {
   "cell_type": "code",
   "execution_count": 11,
   "id": "3de821f9-5cc2-43f9-a3b1-fa55faaa5a6c",
   "metadata": {},
   "outputs": [],
   "source": [
    "FIG_SIZE = (12, 6)\n",
    "SAVE_FIG = True\n",
    "FIG_FMT = 'pdf'\n",
    "TRANSPARENT_PNG=True\n",
    "\n",
    "save_fig(\n",
    "    fig,\n",
    "    'float64',\n",
    "    fig_dir=os.path.join('..','figures'),\n",
    "    fig_fmt=FIG_FMT,\n",
    "    save=SAVE_FIG, \n",
    "    fig_size=FIG_SIZE,\n",
    "    transparent_png=TRANSPARENT_PNG,\n",
    ")"
   ]
  },
  {
   "cell_type": "code",
   "execution_count": null,
   "id": "d1e53d4d-8535-43f3-83cc-21be9e0b1d1b",
   "metadata": {},
   "outputs": [],
   "source": []
  }
 ],
 "metadata": {
  "kernelspec": {
   "display_name": "Python 3 (ipykernel)",
   "language": "python",
   "name": "python3"
  },
  "language_info": {
   "codemirror_mode": {
    "name": "ipython",
    "version": 3
   },
   "file_extension": ".py",
   "mimetype": "text/x-python",
   "name": "python",
   "nbconvert_exporter": "python",
   "pygments_lexer": "ipython3",
   "version": "3.8.10"
  }
 },
 "nbformat": 4,
 "nbformat_minor": 5
}
